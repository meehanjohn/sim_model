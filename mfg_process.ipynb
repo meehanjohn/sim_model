{
 "cells": [
  {
   "cell_type": "markdown",
   "metadata": {},
   "source": [
    "# Simulating Process Flow\n",
    "\n",
    "# Stages of Manufacturing\n",
    "\n",
    "## 1. [Raw Material Inventory Store](#first-bullet)\n",
    "\n",
    "## 2. [Classifier](#second-bullet)\n",
    "\n",
    "## 3. [Pre-Finish Inventory Store](#third-bullet)\n",
    "\n",
    "## 4. [Pre-Finish Operation](#fourth-bullet)\n",
    "\n",
    "## 5. [Pack Inventory Store](#fifth-bullet)\n",
    "\n",
    "## 6. [Packaging](#sixth-bullet)"
   ]
  },
  {
   "cell_type": "markdown",
   "metadata": {},
   "source": [
    "![process_flow_diagram](process_flow_diagram.svg)"
   ]
  },
  {
   "cell_type": "markdown",
   "metadata": {},
   "source": [
    "## 1. Raw Material Inventory (RMI) Store <a class=\"anchor\" id=\"first-bullet\"></a>\n",
    "Several drums act as an inventory store for raw material. The number of drums and their capacities varies by site. Drums can only hold jelly beans with the same color (many-to-one relationship between drums and jelly beans of a given color). One RMI drum can be released at a time into the classifier.\n",
    "\n",
    "Rules:\n",
    "1. Order of release from RMI drums is dictated by workorders\n",
    "2. If there are two RMI drums with the same color at a given location, start emptying the drum with the lower equipment number first\n",
    "3. Releasing jelly beans from a drum is only allowed if there are at least 5 pre-finished inventory bins empty and available (the next step, classification, is a continuous process which fills pre-finished inventory bins)"
   ]
  },
  {
   "cell_type": "code",
   "execution_count": 2,
   "metadata": {},
   "outputs": [],
   "source": [
    "import pandas as pd\n",
    "import numpy as np\n",
    "# from sklearn import "
   ]
  },
  {
   "cell_type": "code",
   "execution_count": 3,
   "metadata": {},
   "outputs": [],
   "source": [
    "class facility:\n",
    "    def __init__(self, location):\n",
    "        self.location = location\n",
    "        print(\"Building {0} Facility Details...\".format(location))\n",
    "        \n",
    "        # TODO - utilize equipment metadata from file\n",
    "        equipment = pd.read_csv('equipment.csv')\n",
    "        \n",
    "        self.rmi_store = rmi_store(location)\n",
    "        self.classifier = classifier(location)\n",
    "        self.pfi_store = pfi_store(location)\n",
    "        \n",
    "    def __repr__(self):\n",
    "        return(\"{0}\".format(self.location))"
   ]
  },
  {
   "cell_type": "code",
   "execution_count": 4,
   "metadata": {},
   "outputs": [],
   "source": [
    "class rmi_store:\n",
    "    def __init__(self, location):\n",
    "        # Initialize RMI Store for a given location w/ general properties\n",
    "        rmi_il = pd.read_csv('rmi_inventory_level.csv')\n",
    "        rmi_il = rmi_il[rmi_il['Location Name'] == location]\n",
    "\n",
    "        \n",
    "        self.facility = location\n",
    "        self.num_drums = len(rmi_il)\n",
    "        self.colors = rmi_il['Color'].dropna()\n",
    "        \n",
    "        self.fill_store(rmi_il)\n",
    "        #self.order_drums()\n",
    "        \n",
    "    def __repr__(self):\n",
    "        return(\n",
    "            \"{0} RMI Store \\n\"\n",
    "            \"Containing {1} Drums \\n\"\n",
    "            \"With {2} Unique Colors\"\n",
    "            .format(self.facility, self.num_drums, len(self.colors))\n",
    "        )        \n",
    "    \n",
    "    def fill_store(self, df):\n",
    "        print('Filling RMI Drums...')\n",
    "        self.drums = [\n",
    "            rmi_drum(\n",
    "            row['RMI Drum'],\n",
    "            row['Color'],\n",
    "            row['Qty in pounds'],\n",
    "            row['Capacity']\n",
    "            )\n",
    "            for index, row in df.iterrows()\n",
    "        ]\n",
    "    \n",
    "    def order_drums():\n",
    "    # Sort list of drums according to work order\n",
    "        pass\n",
    "            \n",
    "            \n",
    "class rmi_drum:\n",
    "    def __init__(self, drum_id, color, start_qty, capacity):\n",
    "        self.id = drum_id\n",
    "        self.color = color\n",
    "        self.start_qty = start_qty\n",
    "        self.capacity = capacity\n",
    "        #self.fill()\n",
    "    \n",
    "    def __repr__(self):\n",
    "        return(self.id)\n",
    "    \n",
    "    def fill(self, addtl_qty):\n",
    "        self.final_qty = self.start_qty + self.addtl_qty\n",
    "        \n",
    "    def empty(self):\n",
    "        self.lb_qty = 0"
   ]
  },
  {
   "cell_type": "code",
   "execution_count": 9,
   "metadata": {},
   "outputs": [
    {
     "name": "stdout",
     "output_type": "stream",
     "text": [
      "Building Detroit, MI Facility Details...\n",
      "Filling RMI Drums...\n",
      "Initializing Classifier...\n",
      "Defining PFI Drums...\n",
      "Detroit, MI RMI Store \n",
      "Containing 40 Drums \n",
      "With 38 Unique Colors\n",
      "[RMI DRUM1, RMI DRUM2, RMI DRUM3, RMI DRUM4, RMI DRUM5]\n",
      "RMI DRUM2\n",
      "300,000\n"
     ]
    }
   ],
   "source": [
    "detroit = facility('Detroit, MI')\n",
    "print(detroit.rmi_store)\n",
    "print(detroit.rmi_store.drums[0:5])\n",
    "print(detroit.rmi_store.drums[1])\n",
    "print(detroit.rmi_store.drums[1].capacity)"
   ]
  },
  {
   "cell_type": "code",
   "execution_count": 10,
   "metadata": {
    "scrolled": true
   },
   "outputs": [
    {
     "name": "stdout",
     "output_type": "stream",
     "text": [
      "Building Columbus, OH Facility Details...\n",
      "Filling RMI Drums...\n",
      "Initializing Classifier...\n",
      "Defining PFI Drums...\n",
      "Columbus, OH RMI Store \n",
      "Containing 30 Drums \n",
      "With 28 Unique Colors\n",
      "[RMI DRUM1, RMI DRUM2, RMI DRUM3, RMI DRUM4, RMI DRUM5]\n",
      "RMI DRUM2\n",
      "320,000\n"
     ]
    }
   ],
   "source": [
    "columbus = facility('Columbus, OH')\n",
    "print(columbus.rmi_store)\n",
    "print(columbus.rmi_store.drums[0:5])\n",
    "print(columbus.rmi_store.drums[1])\n",
    "print(columbus.rmi_store.drums[1].capacity)"
   ]
  },
  {
   "cell_type": "markdown",
   "metadata": {},
   "source": [
    "## 2. Classifier <a class=\"anchor\" id=\"second-bullet\"></a>\n",
    "\n",
    "The RMI drums contain jelly beans of the same color, but of varying size. RMI drums are emptied one by one into the classifier, which sorts jelly beans into 5 distinct sizes. Percentage split of each jelly bean size for a given color is provided with the problem statement."
   ]
  },
  {
   "cell_type": "code",
   "execution_count": 5,
   "metadata": {},
   "outputs": [],
   "source": [
    "class classifier:\n",
    "    def __init__(self, location):\n",
    "        print('Initializing Classifier...')\n",
    "        rates = pd.read_csv('classifier_rate.csv')\n",
    "        \n",
    "        self.color = 'Undefined'\n",
    "        self.location = location\n",
    "        self.rate = int(rates[rates['Site'] == location]['Processing_Rate'])\n",
    "        self.id = rates[rates['Site'] == location]['Classifier'].values[0]\n",
    "        \n",
    "    \n",
    "    def __repr__(self):\n",
    "        return(\"{0} Classifier\\n\"\n",
    "               \"ID Number: {1}\\n\"\n",
    "               \"Processing Color: {2}\\n\"\n",
    "               \"At Rate: {3} lbs/hr\"\n",
    "               .format(self.location,\n",
    "                       self.id,\n",
    "                       self.color,\n",
    "                       self.rate\n",
    "               )\n",
    "        )\n",
    "    \n",
    "    def check_pfi_bins(self):\n",
    "        pass\n",
    "    \n",
    "    def classify(self, color, incoming):\n",
    "        # Return quantity of each size of jelly bean\n",
    "        print(\"Classifying {0} {1} Jelly Beans...\".format(incoming, color))\n",
    "        split = pd.read_csv('classifier_split.csv')\n",
    "        \n",
    "        self.color = color\n",
    "        self.split = split[split['Color'] == color]\n",
    "        \n",
    "        self.check_pfi_bins()\n",
    "        split = self.split\n",
    "        split['qty_out'] = split.apply(lambda x: int(incoming*x.Percentage/100), axis=1)\n",
    "        time = self.rate/incoming\n",
    "        print(\"Classifying Time: {0} Hours\".format(time))\n",
    "        return split[['Size','qty_out']]\n",
    "        \n",
    "        \n",
    "        "
   ]
  },
  {
   "cell_type": "code",
   "execution_count": 12,
   "metadata": {},
   "outputs": [
    {
     "data": {
      "text/plain": [
       "Detroit, MI Classifier\n",
       "ID Number: Classifier 1\n",
       "Processing Color: Undefined\n",
       "At Rate: 3420 lbs/hr"
      ]
     },
     "execution_count": 12,
     "metadata": {},
     "output_type": "execute_result"
    }
   ],
   "source": [
    "detroit.classifier"
   ]
  },
  {
   "cell_type": "code",
   "execution_count": 13,
   "metadata": {},
   "outputs": [
    {
     "name": "stdout",
     "output_type": "stream",
     "text": [
      "Classifying 10000 Coloring Agent1 Jelly Beans...\n",
      "Classifying Time: 0.342 Hours\n"
     ]
    },
    {
     "data": {
      "text/html": [
       "<div>\n",
       "<style scoped>\n",
       "    .dataframe tbody tr th:only-of-type {\n",
       "        vertical-align: middle;\n",
       "    }\n",
       "\n",
       "    .dataframe tbody tr th {\n",
       "        vertical-align: top;\n",
       "    }\n",
       "\n",
       "    .dataframe thead th {\n",
       "        text-align: right;\n",
       "    }\n",
       "</style>\n",
       "<table border=\"1\" class=\"dataframe\">\n",
       "  <thead>\n",
       "    <tr style=\"text-align: right;\">\n",
       "      <th></th>\n",
       "      <th>Size</th>\n",
       "      <th>qty_out</th>\n",
       "    </tr>\n",
       "  </thead>\n",
       "  <tbody>\n",
       "    <tr>\n",
       "      <th>0</th>\n",
       "      <td>S1</td>\n",
       "      <td>1200</td>\n",
       "    </tr>\n",
       "    <tr>\n",
       "      <th>1</th>\n",
       "      <td>S5</td>\n",
       "      <td>2700</td>\n",
       "    </tr>\n",
       "    <tr>\n",
       "      <th>2</th>\n",
       "      <td>S4</td>\n",
       "      <td>1900</td>\n",
       "    </tr>\n",
       "    <tr>\n",
       "      <th>3</th>\n",
       "      <td>S2</td>\n",
       "      <td>2900</td>\n",
       "    </tr>\n",
       "    <tr>\n",
       "      <th>4</th>\n",
       "      <td>S3</td>\n",
       "      <td>1300</td>\n",
       "    </tr>\n",
       "  </tbody>\n",
       "</table>\n",
       "</div>"
      ],
      "text/plain": [
       "  Size  qty_out\n",
       "0   S1     1200\n",
       "1   S5     2700\n",
       "2   S4     1900\n",
       "3   S2     2900\n",
       "4   S3     1300"
      ]
     },
     "execution_count": 13,
     "metadata": {},
     "output_type": "execute_result"
    }
   ],
   "source": [
    "detroit.classifier.classify('Coloring Agent1', 10000)"
   ]
  },
  {
   "cell_type": "markdown",
   "metadata": {},
   "source": [
    "## 3. Pre-Finish Inventory (PFI) Store <a class=\"anchor\" id=\"third-bullet\"></a>\n",
    "\n",
    "Jelly beans sorted by the classifier are stored in PFI drums. Drums are assigned a specific jelly bean size and color to avoid contamination (the PFI drums are reused once the drums are emptied into the Pre-Finish Operation). As mentioned earlier, 5 PFI drums (one for each size) must be empty before an RMI drum can be unloaded (thus starting the classification process).\n",
    "\n",
    "Rules:\n",
    "1. The classification process simultaneously splits the jelly beans according to the given ratios directly into the PFI drums\n",
    "2. Fundamentally any PFI drum can be filled with any size of jelly bean; however, once the assignment is made for a given work order, the PFI drum must only hand jelly beans of that size & color until the work order is completely processed\n",
    "3. PFI drums can only be filled to 95% capacity\n",
    "4. PFI drums are only available to be emptied into the Pre-Finish Operation once filling has stopped"
   ]
  },
  {
   "cell_type": "code",
   "execution_count": 6,
   "metadata": {},
   "outputs": [],
   "source": [
    "class pfi_store:\n",
    "    def __init__(self, location):\n",
    "        pfi_drums = pd.read_csv('pfi_drum.csv', thousands=',')\n",
    "        pfi_drums = pfi_drums[pfi_drums['Site'] == location]\n",
    "        \n",
    "        self.facility = location\n",
    "        self.num_drums = len(pfi_drums)\n",
    "        \n",
    "        self.fill_store(pfi_drums)\n",
    "        self.assign_drums()\n",
    "        \n",
    "    def __repr__(self):\n",
    "        return(\n",
    "            \"{0} PFI Store \\n\"\n",
    "            \"Containing {1} Drums\"\n",
    "            .format(self.facility, self.num_drums)\n",
    "        )     \n",
    "        \n",
    "    def fill_store(self, df):\n",
    "        print('Defining PFI Drums...')\n",
    "        self.drums = [\n",
    "            pfi_drum(\n",
    "            row['Drum Number'],\n",
    "            row['Capacity In pounds']\n",
    "            )\n",
    "            for index, row in df.iterrows()\n",
    "        ]\n",
    "        \n",
    "    def assign_drums(self):\n",
    "        pass\n",
    "        \n",
    "class pfi_drum:\n",
    "    def __init__(self, drum_id, capacity):\n",
    "        self.id = drum_id\n",
    "        self.capacity = int(capacity)\n",
    "        self.contents = 0\n",
    "        \n",
    "    def __repr__(self):\n",
    "        return(self.id)\n",
    "    \n",
    "    def assign(self, jb_color, jb_size):\n",
    "        self.jb_color = jb_color\n",
    "        self.jb_size = jb_size\n",
    "    \n",
    "    def fill(self, amount):\n",
    "        if (self.contents + amount) <= 0.95*self.capacity:\n",
    "            self.contents += amount\n",
    "        else:\n",
    "            raise ValueError('Amount specified exceeds drum capacity')\n",
    "        \n",
    "    def empty(self):\n",
    "        self.contents = 0"
   ]
  },
  {
   "cell_type": "code",
   "execution_count": 11,
   "metadata": {},
   "outputs": [
    {
     "data": {
      "text/plain": [
       "Detroit, MI PFI Store \n",
       "Containing 15 Drums"
      ]
     },
     "execution_count": 11,
     "metadata": {},
     "output_type": "execute_result"
    }
   ],
   "source": [
    "detroit.pfi_store"
   ]
  },
  {
   "cell_type": "code",
   "execution_count": 17,
   "metadata": {},
   "outputs": [
    {
     "name": "stdout",
     "output_type": "stream",
     "text": [
      "[PFI Drum1, PFI Drum2, PFI Drum3, PFI Drum4, PFI Drum5, PFI Drum6, PFI Drum7, PFI Drum8, PFI Drum9, PFI Drum10, PFI Drum11, PFI Drum12, PFI Drum13, PFI Drum14, PFI Drum15]\n",
      "10000\n"
     ]
    }
   ],
   "source": [
    "print(detroit.pfi_store.drums)\n",
    "print(detroit.pfi_store.drums[1].capacity)"
   ]
  },
  {
   "cell_type": "code",
   "execution_count": 21,
   "metadata": {},
   "outputs": [
    {
     "data": {
      "text/plain": [
       "'Coloring Agent1'"
      ]
     },
     "execution_count": 21,
     "metadata": {},
     "output_type": "execute_result"
    }
   ],
   "source": [
    "detroit.pfi_store.drums[0].assign(jb_color ='Coloring Agent1', jb_size ='S1')\n",
    "detroit.pfi_store.drums[0].jb_color"
   ]
  },
  {
   "cell_type": "code",
   "execution_count": 22,
   "metadata": {},
   "outputs": [
    {
     "data": {
      "text/plain": [
       "10000"
      ]
     },
     "execution_count": 22,
     "metadata": {},
     "output_type": "execute_result"
    }
   ],
   "source": [
    "detroit.pfi_store.drums[0].capacity"
   ]
  },
  {
   "cell_type": "code",
   "execution_count": 23,
   "metadata": {},
   "outputs": [
    {
     "data": {
      "text/plain": [
       "9000"
      ]
     },
     "execution_count": 23,
     "metadata": {},
     "output_type": "execute_result"
    }
   ],
   "source": [
    "detroit.pfi_store.drums[0].fill(9000)\n",
    "detroit.pfi_store.drums[0].contents"
   ]
  },
  {
   "cell_type": "code",
   "execution_count": 24,
   "metadata": {},
   "outputs": [
    {
     "ename": "ValueError",
     "evalue": "Amount specified exceeds drum capacity",
     "output_type": "error",
     "traceback": [
      "\u001b[1;31m---------------------------------------------------------------------------\u001b[0m",
      "\u001b[1;31mValueError\u001b[0m                                Traceback (most recent call last)",
      "\u001b[1;32m<ipython-input-24-27f3cfe5d117>\u001b[0m in \u001b[0;36m<module>\u001b[1;34m\u001b[0m\n\u001b[1;32m----> 1\u001b[1;33m \u001b[0mdetroit\u001b[0m\u001b[1;33m.\u001b[0m\u001b[0mpfi_store\u001b[0m\u001b[1;33m.\u001b[0m\u001b[0mdrums\u001b[0m\u001b[1;33m[\u001b[0m\u001b[1;36m0\u001b[0m\u001b[1;33m]\u001b[0m\u001b[1;33m.\u001b[0m\u001b[0mfill\u001b[0m\u001b[1;33m(\u001b[0m\u001b[1;36m501\u001b[0m\u001b[1;33m)\u001b[0m\u001b[1;33m\u001b[0m\u001b[1;33m\u001b[0m\u001b[0m\n\u001b[0m\u001b[0;32m      2\u001b[0m \u001b[0mdetroit\u001b[0m\u001b[1;33m.\u001b[0m\u001b[0mpfi_store\u001b[0m\u001b[1;33m.\u001b[0m\u001b[0mdrums\u001b[0m\u001b[1;33m[\u001b[0m\u001b[1;36m0\u001b[0m\u001b[1;33m]\u001b[0m\u001b[1;33m.\u001b[0m\u001b[0mcontents\u001b[0m\u001b[1;33m\u001b[0m\u001b[1;33m\u001b[0m\u001b[0m\n",
      "\u001b[1;32m<ipython-input-9-25954d4d5da7>\u001b[0m in \u001b[0;36mfill\u001b[1;34m(self, amount)\u001b[0m\n\u001b[0;32m     47\u001b[0m             \u001b[0mself\u001b[0m\u001b[1;33m.\u001b[0m\u001b[0mcontents\u001b[0m \u001b[1;33m+=\u001b[0m \u001b[0mamount\u001b[0m\u001b[1;33m\u001b[0m\u001b[1;33m\u001b[0m\u001b[0m\n\u001b[0;32m     48\u001b[0m         \u001b[1;32melse\u001b[0m\u001b[1;33m:\u001b[0m\u001b[1;33m\u001b[0m\u001b[1;33m\u001b[0m\u001b[0m\n\u001b[1;32m---> 49\u001b[1;33m             \u001b[1;32mraise\u001b[0m \u001b[0mValueError\u001b[0m\u001b[1;33m(\u001b[0m\u001b[1;34m'Amount specified exceeds drum capacity'\u001b[0m\u001b[1;33m)\u001b[0m\u001b[1;33m\u001b[0m\u001b[1;33m\u001b[0m\u001b[0m\n\u001b[0m\u001b[0;32m     50\u001b[0m \u001b[1;33m\u001b[0m\u001b[0m\n\u001b[0;32m     51\u001b[0m     \u001b[1;32mdef\u001b[0m \u001b[0mempty\u001b[0m\u001b[1;33m(\u001b[0m\u001b[0mself\u001b[0m\u001b[1;33m)\u001b[0m\u001b[1;33m:\u001b[0m\u001b[1;33m\u001b[0m\u001b[1;33m\u001b[0m\u001b[0m\n",
      "\u001b[1;31mValueError\u001b[0m: Amount specified exceeds drum capacity"
     ]
    }
   ],
   "source": [
    "detroit.pfi_store.drums[0].fill(501)\n",
    "detroit.pfi_store.drums[0].contents"
   ]
  },
  {
   "cell_type": "code",
   "execution_count": 25,
   "metadata": {},
   "outputs": [
    {
     "data": {
      "text/plain": [
       "0"
      ]
     },
     "execution_count": 25,
     "metadata": {},
     "output_type": "execute_result"
    }
   ],
   "source": [
    "detroit.pfi_store.drums[0].empty()\n",
    "detroit.pfi_store.drums[0].contents"
   ]
  },
  {
   "cell_type": "markdown",
   "metadata": {},
   "source": [
    "## 4. Pre-Finish Operation (PFO) <a class=\"anchor\" id=\"fourth-bullet\"></a>\n",
    "\n",
    "PFI drums are now emptied into a tank which applies flavoring to jelly beans of a given color and size (i.e., the tank can only hold 1 unique color-size-flavor combinations at any given time). The number of tanks, tank capacity, and processing rate are given for each facility as part of the problem statement.\n",
    "\n",
    "Rules:\n",
    "1. If there is more than 1 PFO tank, assume the rate for each tank is the same.\n",
    "2. When flavors are changed, there is a change-over duration of 5 minutes.\n",
    "3. There is no change-over duration between size changes."
   ]
  },
  {
   "cell_type": "code",
   "execution_count": 44,
   "metadata": {},
   "outputs": [],
   "source": [
    "class pfo_tank:\n",
    "    def __init__(self, location):\n",
    "        self.facility = location\n",
    "        self.color = \"Undefined\"\n",
    "        self.rate = np.nan\n",
    "        self.flavor = \"Undefined\"\n",
    "        self.process_time = 0\n",
    "        \n",
    "        \n",
    "    def __repr__(self):\n",
    "        return(\"{0} PFO Tank\\n\"\n",
    "              \"Processing Color: {1}\\n\"\n",
    "              \"Processing Flavor: {2}\\n\"\n",
    "              \"Predicted Processing Rate: {3}\"\n",
    "              .format(\n",
    "                  self.facility,\n",
    "                  self.color,\n",
    "                  self.rate,\n",
    "                  self.flavor\n",
    "              )\n",
    "        )\n",
    "    \n",
    "    def apply(self, flavor):\n",
    "        self.load(flavor)\n",
    "        self.flavor = flavor\n",
    "        self.process(\n",
    "            self.location, \n",
    "            self.flavor, \n",
    "            self.size\n",
    "        )\n",
    "        print(self.process_time)\n",
    "    \n",
    "    def process(self, location, flavor, size):\n",
    "        hist_rate = pd.read_csv('pfo_rate.csv')\n",
    "        hist_rate = hist_rate[\n",
    "            hist_rate.Site == location \n",
    "            & hist_rate.Flavor == flavor\n",
    "            & hist_rate.Size == size\n",
    "        ]['Processing Rate']\n",
    "        \n",
    "    \n",
    "    def load(self, flavor):\n",
    "        if (self.flavor != flavor) & (self.flavor != 'Undefined'):\n",
    "            self.process_time += 5\n",
    "        else:\n",
    "            pass\n",
    "            "
   ]
  },
  {
   "cell_type": "code",
   "execution_count": 54,
   "metadata": {},
   "outputs": [],
   "source": [
    "detroit_pfo_tank = pfo_tank('Detroit, MI')"
   ]
  },
  {
   "cell_type": "code",
   "execution_count": 55,
   "metadata": {},
   "outputs": [
    {
     "data": {
      "text/plain": [
       "Detroit, MI PFO Tank\n",
       "Processing Color: Undefined\n",
       "Processing Flavor: nan\n",
       "Predicted Processing Rate: Undefined"
      ]
     },
     "execution_count": 55,
     "metadata": {},
     "output_type": "execute_result"
    }
   ],
   "source": [
    "detroit_pfo_tank"
   ]
  },
  {
   "cell_type": "code",
   "execution_count": 56,
   "metadata": {},
   "outputs": [
    {
     "name": "stdout",
     "output_type": "stream",
     "text": [
      "0\n"
     ]
    }
   ],
   "source": [
    "detroit_pfo_tank.apply('F1')"
   ]
  },
  {
   "cell_type": "code",
   "execution_count": 57,
   "metadata": {},
   "outputs": [
    {
     "name": "stdout",
     "output_type": "stream",
     "text": [
      "0\n"
     ]
    }
   ],
   "source": [
    "detroit_pfo_tank.apply('F1')"
   ]
  },
  {
   "cell_type": "code",
   "execution_count": 58,
   "metadata": {},
   "outputs": [
    {
     "name": "stdout",
     "output_type": "stream",
     "text": [
      "5\n"
     ]
    }
   ],
   "source": [
    "detroit_pfo_tank.apply('F2')"
   ]
  },
  {
   "cell_type": "code",
   "execution_count": 62,
   "metadata": {},
   "outputs": [],
   "source": [
    "location = 'Detroit, MI'\n",
    "size = 'S1'\n",
    "flavor = 'F1'\n",
    "hist_rate = pd.read_csv('pfo_rate.csv')\n",
    "hist_rate = hist_rate[\n",
    "    (hist_rate.Site == location) \n",
    "    &(hist_rate.Flavor == flavor)\n",
    "    &(hist_rate.Size == size)\n",
    "]['Processing_Rate']"
   ]
  },
  {
   "cell_type": "code",
   "execution_count": 73,
   "metadata": {},
   "outputs": [],
   "source": [
    "import matplotlib.pyplot as plt\n",
    "import scipy.stats as stats\n",
    "import scipy.integrate as integrate"
   ]
  },
  {
   "cell_type": "code",
   "execution_count": 67,
   "metadata": {},
   "outputs": [
    {
     "data": {
      "text/plain": [
       "1351.631"
      ]
     },
     "execution_count": 67,
     "metadata": {},
     "output_type": "execute_result"
    }
   ],
   "source": [
    "sample_mean = np.mean(hist_rate)\n",
    "sample_mean"
   ]
  },
  {
   "cell_type": "code",
   "execution_count": 70,
   "metadata": {},
   "outputs": [
    {
     "data": {
      "text/plain": [
       "148.72353155771953"
      ]
     },
     "execution_count": 70,
     "metadata": {},
     "output_type": "execute_result"
    }
   ],
   "source": [
    "sample_sd = np.std(hist_rate)\n",
    "sample_sd"
   ]
  },
  {
   "cell_type": "code",
   "execution_count": 103,
   "metadata": {},
   "outputs": [
    {
     "data": {
      "image/png": "[encoded data removed]",
      "text/plain": [
       "<Figure size 432x288 with 2 Axes>"
      ]
     },
     "metadata": {
      "needs_background": "light"
     },
     "output_type": "display_data"
    }
   ],
   "source": [
    "fig, ax1 = plt.subplots(constrained_layout=True)\n",
    "x = np.linspace(sample_mean - 4*sample_sd, sample_mean + 4*sample_sd, 1000)\n",
    "y1 = hist_rate\n",
    "y2 = stats.norm.pdf(x, sample_mean, sample_sd)\n",
    "ax1.plot(x, y2, color='r')\n",
    "ax2 = ax1.twinx()\n",
    "ax2.hist(y1, bins=25, alpha=0.5)\n",
    "plt.show();"
   ]
  },
  {
   "cell_type": "code",
   "execution_count": null,
   "metadata": {},
   "outputs": [],
   "source": []
  },
  {
   "cell_type": "code",
   "execution_count": 112,
   "metadata": {},
   "outputs": [
    {
     "data": {
      "text/plain": [
       "0.5247471728692256"
      ]
     },
     "execution_count": 112,
     "metadata": {},
     "output_type": "execute_result"
    }
   ],
   "source": [
    "rand_num = np.random.random()\n",
    "rand_num"
   ]
  },
  {
   "cell_type": "code",
   "execution_count": 116,
   "metadata": {},
   "outputs": [
    {
     "data": {
      "text/plain": [
       "0.06207179969772406"
      ]
     },
     "execution_count": 116,
     "metadata": {},
     "output_type": "execute_result"
    }
   ],
   "source": [
    "stats.norm.ppf(rand_num)"
   ]
  },
  {
   "cell_type": "code",
   "execution_count": 105,
   "metadata": {},
   "outputs": [
    {
     "data": {
      "image/png": "[encoded data removed]",
      "text/plain": [
       "<Figure size 432x288 with 2 Axes>"
      ]
     },
     "metadata": {
      "needs_background": "light"
     },
     "output_type": "display_data"
    }
   ],
   "source": [
    "fig, ax1 = plt.subplots(constrained_layout=True)\n",
    "y3 = stats.norm.cdf(x, sample_mean, sample_sd)\n",
    "ax1.plot(x, y2, color='r')\n",
    "ax2 = ax1.twinx()\n",
    "ax2.plot(x, y3, color='c')\n",
    "plt.show();"
   ]
  }
 ],
 "metadata": {
  "kernelspec": {
   "display_name": "Python 3",
   "language": "python",
   "name": "python3"
  },
  "language_info": {
   "codemirror_mode": {
    "name": "ipython",
    "version": 3
   },
   "file_extension": ".py",
   "mimetype": "text/x-python",
   "name": "python",
   "nbconvert_exporter": "python",
   "pygments_lexer": "ipython3",
   "version": "3.7.3"
  }
 },
 "nbformat": 4,
 "nbformat_minor": 2
}
