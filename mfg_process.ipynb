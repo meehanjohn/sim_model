{
 "cells": [
  {
   "cell_type": "markdown",
   "metadata": {},
   "source": [
    "# Simulating Process Flow\n",
    "\n",
    "# Stages of Manufacturing\n",
    "\n",
    "## 1. [Raw Material Inventory Store](#first-bullet)\n",
    "\n",
    "## 2. [Classifier](#second-bullet)\n",
    "\n",
    "## 3. [Pre-Finish Inventory Store](#third-bullet)\n",
    "\n",
    "## 4. [Pre-Finish Operation](#fourth-bullet)\n",
    "\n",
    "## 5. [Pack Inventory Store](#fifth-bullet)\n",
    "\n",
    "## 6. [Packaging](#sixth-bullet)"
   ]
  },
  {
   "cell_type": "markdown",
   "metadata": {},
   "source": [
    "![process_flow_diagram](misc/process_flow_diagram.svg)"
   ]
  },
  {
   "cell_type": "markdown",
   "metadata": {},
   "source": [
    "# TODO:\n",
    "- **RMI Store**\n",
    "    - order_drums(): sort drums as dictated by work orders \n",
    "- **Classifier**\n",
    "    - check_pfi_bins(): ensure >5 empty bins available in PFI Store\n",
    "- **PFI Store**\n",
    "    - assign_drums(): ensure that a given drum maintains the same color & size through a given work order\n",
    "- **PFO Cell**\n",
    "    - \\_\\_repr\\_\\_(): code proper representation of PFO Cell\n",
    "    - ~~assign_tanks(): determine number of tanks for a given site and initialize them~~\n",
    "- **PI Cell**\n",
    "    ~~- assign_drums():~~ \n",
    "- **Packaging Cell**\n",
    "- **Work Orders**\n",
    "- ~~Finish defining packing cell:~~\n",
    "    - ~~Assigning machines & properties~~\n",
    "    - ~~Defining bagging & boxing machines~~\n",
    "    - ~~Determining process rates~~\n",
    "- ~~Replace `location` with `plant_id`; update CSVs accordingly~~\n",
    "- Define how Work Orders are loaded and processed\n",
    "- Code the overarching simulation process\n",
    "- Refactoring:\n",
    "    - Define super/subclass relationship for drums\n",
    "    - Define super/subclass relationship for workcells?\n",
    "- Thoroughly comment code cells\n",
    "- Add markdown to illustrate important concepts; break up code cells as necessary\n",
    "- Add visualizations\n",
    "- Flowchart Edit Notes:\n",
    "    - Work orders dictate RMI Store drum order as well as PI Store order.\n",
    "    - Number and label each work cell for reference in the document.\n"
   ]
  },
  {
   "cell_type": "code",
   "execution_count": 1,
   "metadata": {},
   "outputs": [],
   "source": [
    "import pandas as pd\n",
    "import numpy as np\n",
    "import scipy.stats as stats\n",
    "from modules.storage_cell import storage_cell\n",
    "from modules.processing_cell import processing_cell"
   ]
  },
  {
   "cell_type": "markdown",
   "metadata": {},
   "source": [
    "## 1. Raw Material Inventory (RMI) Store <a class=\"anchor\" id=\"first-bullet\"></a>\n",
    "Several drums act as an inventory store for raw material. The number of drums and their capacities varies by site. Drums can only hold jelly beans with the same color (many-to-one relationship between drums and jelly beans of a given color). One RMI drum can be released at a time into the classifier.\n",
    "\n",
    "Rules:\n",
    "1. Order of release from RMI drums is dictated by workorders\n",
    "2. If there are two RMI drums with the same color at a given location, start emptying the drum with the lower equipment number first\n",
    "3. Releasing jelly beans from a drum is only allowed if there are at least 5 pre-finished inventory bins empty and available (the next step, classification, is a continuous process which fills pre-finished inventory bins)"
   ]
  },
  {
   "cell_type": "code",
   "execution_count": 2,
   "metadata": {
    "scrolled": true
   },
   "outputs": [],
   "source": [
    "detroit_rmi = storage_cell('rmi', num_drums=40, facility='DETROITMI')"
   ]
  },
  {
   "cell_type": "code",
   "execution_count": 3,
   "metadata": {},
   "outputs": [
    {
     "data": {
      "text/plain": [
       "[RMI DRUM1,\n",
       " RMI DRUM2,\n",
       " RMI DRUM3,\n",
       " RMI DRUM4,\n",
       " RMI DRUM5,\n",
       " RMI DRUM6,\n",
       " RMI DRUM7,\n",
       " RMI DRUM8,\n",
       " RMI DRUM9,\n",
       " RMI DRUM10,\n",
       " RMI DRUM11,\n",
       " RMI DRUM12,\n",
       " RMI DRUM13,\n",
       " RMI DRUM14,\n",
       " RMI DRUM15,\n",
       " RMI DRUM16,\n",
       " RMI DRUM17,\n",
       " RMI DRUM18,\n",
       " RMI DRUM19,\n",
       " RMI DRUM20,\n",
       " RMI DRUM21,\n",
       " RMI DRUM22,\n",
       " RMI DRUM23,\n",
       " RMI DRUM24,\n",
       " RMI DRUM25,\n",
       " RMI DRUM26,\n",
       " RMI DRUM27,\n",
       " RMI DRUM28,\n",
       " RMI DRUM29,\n",
       " RMI DRUM30,\n",
       " RMI DRUM31,\n",
       " RMI DRUM32,\n",
       " RMI DRUM33,\n",
       " RMI DRUM34,\n",
       " RMI DRUM35,\n",
       " RMI DRUM36,\n",
       " RMI DRUM37,\n",
       " RMI DRUM38,\n",
       " RMI DRUM39,\n",
       " RMI DRUM40]"
      ]
     },
     "execution_count": 3,
     "metadata": {},
     "output_type": "execute_result"
    }
   ],
   "source": [
    "detroit_rmi.drums"
   ]
  },
  {
   "cell_type": "code",
   "execution_count": 4,
   "metadata": {},
   "outputs": [
    {
     "data": {
      "text/plain": [
       "[RMI DRUM1,\n",
       " RMI DRUM2,\n",
       " RMI DRUM3,\n",
       " RMI DRUM4,\n",
       " RMI DRUM5,\n",
       " RMI DRUM6,\n",
       " RMI DRUM7,\n",
       " RMI DRUM8,\n",
       " RMI DRUM9,\n",
       " RMI DRUM10,\n",
       " RMI DRUM11,\n",
       " RMI DRUM12,\n",
       " RMI DRUM13,\n",
       " RMI DRUM14,\n",
       " RMI DRUM15,\n",
       " RMI DRUM16,\n",
       " RMI DRUM17,\n",
       " RMI DRUM18,\n",
       " RMI DRUM19,\n",
       " RMI DRUM20,\n",
       " RMI DRUM21,\n",
       " RMI DRUM22,\n",
       " RMI DRUM23,\n",
       " RMI DRUM24,\n",
       " RMI DRUM25,\n",
       " RMI DRUM26,\n",
       " RMI DRUM27,\n",
       " RMI DRUM28,\n",
       " RMI DRUM29,\n",
       " RMI DRUM30,\n",
       " RMI DRUM31,\n",
       " RMI DRUM32,\n",
       " RMI DRUM33,\n",
       " RMI DRUM34,\n",
       " RMI DRUM35,\n",
       " RMI DRUM36,\n",
       " RMI DRUM37,\n",
       " RMI DRUM38]"
      ]
     },
     "execution_count": 4,
     "metadata": {},
     "output_type": "execute_result"
    }
   ],
   "source": [
    "detroit_rmi.full_drums"
   ]
  },
  {
   "cell_type": "code",
   "execution_count": 5,
   "metadata": {},
   "outputs": [
    {
     "data": {
      "text/plain": [
       "[RMI DRUM39, RMI DRUM40]"
      ]
     },
     "execution_count": 5,
     "metadata": {},
     "output_type": "execute_result"
    }
   ],
   "source": [
    "detroit_rmi.empty_drums"
   ]
  },
  {
   "cell_type": "code",
   "execution_count": 6,
   "metadata": {},
   "outputs": [],
   "source": [
    "pre_prod_move = pd.DataFrame(\n",
    "    {\n",
    "        'Color':['Coloring Agent5', 'Coloring Agent2'],\n",
    "        'Queue':[176427, 161034]\n",
    "    }\n",
    ")"
   ]
  },
  {
   "cell_type": "code",
   "execution_count": 7,
   "metadata": {},
   "outputs": [],
   "source": [
    "detroit_rmi.fill_drums(pre_prod_move)"
   ]
  },
  {
   "cell_type": "code",
   "execution_count": 8,
   "metadata": {},
   "outputs": [
    {
     "data": {
      "text/plain": [
       "[RMI DRUM1,\n",
       " RMI DRUM2,\n",
       " RMI DRUM3,\n",
       " RMI DRUM4,\n",
       " RMI DRUM5,\n",
       " RMI DRUM6,\n",
       " RMI DRUM7,\n",
       " RMI DRUM8,\n",
       " RMI DRUM9,\n",
       " RMI DRUM10,\n",
       " RMI DRUM11,\n",
       " RMI DRUM12,\n",
       " RMI DRUM13,\n",
       " RMI DRUM14,\n",
       " RMI DRUM15,\n",
       " RMI DRUM16,\n",
       " RMI DRUM17,\n",
       " RMI DRUM18,\n",
       " RMI DRUM19,\n",
       " RMI DRUM20,\n",
       " RMI DRUM21,\n",
       " RMI DRUM22,\n",
       " RMI DRUM23,\n",
       " RMI DRUM24,\n",
       " RMI DRUM25,\n",
       " RMI DRUM26,\n",
       " RMI DRUM27,\n",
       " RMI DRUM28,\n",
       " RMI DRUM29,\n",
       " RMI DRUM30,\n",
       " RMI DRUM31,\n",
       " RMI DRUM32,\n",
       " RMI DRUM33,\n",
       " RMI DRUM34,\n",
       " RMI DRUM35,\n",
       " RMI DRUM36,\n",
       " RMI DRUM37,\n",
       " RMI DRUM38,\n",
       " RMI DRUM40,\n",
       " RMI DRUM39]"
      ]
     },
     "execution_count": 8,
     "metadata": {},
     "output_type": "execute_result"
    }
   ],
   "source": [
    "detroit_rmi.full_drums"
   ]
  },
  {
   "cell_type": "code",
   "execution_count": 9,
   "metadata": {},
   "outputs": [
    {
     "data": {
      "text/plain": [
       "[]"
      ]
     },
     "execution_count": 9,
     "metadata": {},
     "output_type": "execute_result"
    }
   ],
   "source": [
    "detroit_rmi.empty_drums"
   ]
  },
  {
   "cell_type": "code",
   "execution_count": 10,
   "metadata": {},
   "outputs": [
    {
     "name": "stdout",
     "output_type": "stream",
     "text": [
      "Not enough drums\n"
     ]
    }
   ],
   "source": [
    "detroit_rmi.fill_drums(pre_prod_move)"
   ]
  },
  {
   "cell_type": "markdown",
   "metadata": {},
   "source": [
    "## 2. Classifier <a class=\"anchor\" id=\"second-bullet\"></a>\n",
    "\n",
    "The RMI drums contain jelly beans of the same color, but of varying size. RMI drums are emptied one by one into the classifier, which sorts jelly beans into 5 distinct sizes. Percentage split of each jelly bean size for a given color is provided with the problem statement."
   ]
  },
  {
   "cell_type": "code",
   "execution_count": 11,
   "metadata": {},
   "outputs": [],
   "source": [
    "detroit_classifier = processing_cell('classifier', num_machines=1, facility='DETROITMI')"
   ]
  },
  {
   "cell_type": "code",
   "execution_count": 12,
   "metadata": {
    "scrolled": true
   },
   "outputs": [],
   "source": [
    "detroit_classifier.load_machines(300000, jb_color='Coloring Agent1')"
   ]
  },
  {
   "cell_type": "code",
   "execution_count": 13,
   "metadata": {},
   "outputs": [
    {
     "data": {
      "text/html": [
       "<div>\n",
       "<style scoped>\n",
       "    .dataframe tbody tr th:only-of-type {\n",
       "        vertical-align: middle;\n",
       "    }\n",
       "\n",
       "    .dataframe tbody tr th {\n",
       "        vertical-align: top;\n",
       "    }\n",
       "\n",
       "    .dataframe thead th {\n",
       "        text-align: right;\n",
       "    }\n",
       "</style>\n",
       "<table border=\"1\" class=\"dataframe\">\n",
       "  <thead>\n",
       "    <tr style=\"text-align: right;\">\n",
       "      <th></th>\n",
       "      <th>Color</th>\n",
       "      <th>Size</th>\n",
       "      <th>Percentage</th>\n",
       "      <th>Queue</th>\n",
       "    </tr>\n",
       "  </thead>\n",
       "  <tbody>\n",
       "    <tr>\n",
       "      <th>0</th>\n",
       "      <td>Coloring Agent1</td>\n",
       "      <td>S1</td>\n",
       "      <td>12</td>\n",
       "      <td>26000</td>\n",
       "    </tr>\n",
       "    <tr>\n",
       "      <th>1</th>\n",
       "      <td>Coloring Agent1</td>\n",
       "      <td>S5</td>\n",
       "      <td>27</td>\n",
       "      <td>71000</td>\n",
       "    </tr>\n",
       "    <tr>\n",
       "      <th>2</th>\n",
       "      <td>Coloring Agent1</td>\n",
       "      <td>S4</td>\n",
       "      <td>19</td>\n",
       "      <td>47000</td>\n",
       "    </tr>\n",
       "    <tr>\n",
       "      <th>3</th>\n",
       "      <td>Coloring Agent1</td>\n",
       "      <td>S2</td>\n",
       "      <td>29</td>\n",
       "      <td>77000</td>\n",
       "    </tr>\n",
       "    <tr>\n",
       "      <th>4</th>\n",
       "      <td>Coloring Agent1</td>\n",
       "      <td>S3</td>\n",
       "      <td>13</td>\n",
       "      <td>29000</td>\n",
       "    </tr>\n",
       "  </tbody>\n",
       "</table>\n",
       "</div>"
      ],
      "text/plain": [
       "             Color Size  Percentage  Queue\n",
       "0  Coloring Agent1   S1          12  26000\n",
       "1  Coloring Agent1   S5          27  71000\n",
       "2  Coloring Agent1   S4          19  47000\n",
       "3  Coloring Agent1   S2          29  77000\n",
       "4  Coloring Agent1   S3          13  29000"
      ]
     },
     "execution_count": 13,
     "metadata": {},
     "output_type": "execute_result"
    }
   ],
   "source": [
    "detroit_classifier.empty_machines(10000)"
   ]
  },
  {
   "cell_type": "code",
   "execution_count": 14,
   "metadata": {},
   "outputs": [
    {
     "data": {
      "text/plain": [
       "[classifier0]"
      ]
     },
     "execution_count": 14,
     "metadata": {},
     "output_type": "execute_result"
    }
   ],
   "source": [
    "detroit_classifier.machines"
   ]
  },
  {
   "cell_type": "code",
   "execution_count": 15,
   "metadata": {},
   "outputs": [
    {
     "data": {
      "text/html": [
       "<div>\n",
       "<style scoped>\n",
       "    .dataframe tbody tr th:only-of-type {\n",
       "        vertical-align: middle;\n",
       "    }\n",
       "\n",
       "    .dataframe tbody tr th {\n",
       "        vertical-align: top;\n",
       "    }\n",
       "\n",
       "    .dataframe thead th {\n",
       "        text-align: right;\n",
       "    }\n",
       "</style>\n",
       "<table border=\"1\" class=\"dataframe\">\n",
       "  <thead>\n",
       "    <tr style=\"text-align: right;\">\n",
       "      <th></th>\n",
       "      <th>Color</th>\n",
       "      <th>Size</th>\n",
       "      <th>Percentage</th>\n",
       "      <th>Queue</th>\n",
       "    </tr>\n",
       "  </thead>\n",
       "  <tbody>\n",
       "    <tr>\n",
       "      <th>0</th>\n",
       "      <td>Coloring Agent1</td>\n",
       "      <td>S1</td>\n",
       "      <td>12</td>\n",
       "      <td>26000</td>\n",
       "    </tr>\n",
       "    <tr>\n",
       "      <th>1</th>\n",
       "      <td>Coloring Agent1</td>\n",
       "      <td>S5</td>\n",
       "      <td>27</td>\n",
       "      <td>71000</td>\n",
       "    </tr>\n",
       "    <tr>\n",
       "      <th>2</th>\n",
       "      <td>Coloring Agent1</td>\n",
       "      <td>S4</td>\n",
       "      <td>19</td>\n",
       "      <td>47000</td>\n",
       "    </tr>\n",
       "    <tr>\n",
       "      <th>3</th>\n",
       "      <td>Coloring Agent1</td>\n",
       "      <td>S2</td>\n",
       "      <td>29</td>\n",
       "      <td>77000</td>\n",
       "    </tr>\n",
       "    <tr>\n",
       "      <th>4</th>\n",
       "      <td>Coloring Agent1</td>\n",
       "      <td>S3</td>\n",
       "      <td>13</td>\n",
       "      <td>29000</td>\n",
       "    </tr>\n",
       "  </tbody>\n",
       "</table>\n",
       "</div>"
      ],
      "text/plain": [
       "             Color Size  Percentage  Queue\n",
       "0  Coloring Agent1   S1          12  26000\n",
       "1  Coloring Agent1   S5          27  71000\n",
       "2  Coloring Agent1   S4          19  47000\n",
       "3  Coloring Agent1   S2          29  77000\n",
       "4  Coloring Agent1   S3          13  29000"
      ]
     },
     "execution_count": 15,
     "metadata": {},
     "output_type": "execute_result"
    }
   ],
   "source": [
    "detroit_classifier.machines[0].queue"
   ]
  },
  {
   "cell_type": "markdown",
   "metadata": {},
   "source": [
    "## 3. Pre-Finish Inventory (PFI) Store <a class=\"anchor\" id=\"third-bullet\"></a>\n",
    "\n",
    "Jelly beans sorted by the classifier are stored in PFI drums. Drums are assigned a specific jelly bean size and color to avoid contamination (the PFI drums are reused once the drums are emptied into the Pre-Finish Operation). As mentioned earlier, 5 PFI drums (one for each size) must be empty before an RMI drum can be unloaded (thus starting the classification process).\n",
    "\n",
    "Rules:\n",
    "1. The classification process simultaneously splits the jelly beans according to the given ratios directly into the PFI drums\n",
    "2. Fundamentally any PFI drum can be filled with any size of jelly bean; however, once the assignment is made for a given work order, the PFI drum must only hand jelly beans of that size & color until the work order is completely processed\n",
    "3. PFI drums can only be filled to 95% capacity\n",
    "4. PFI drums are only available to be emptied into the Pre-Finish Operation once filling has stopped"
   ]
  },
  {
   "cell_type": "code",
   "execution_count": 16,
   "metadata": {},
   "outputs": [
    {
     "data": {
      "text/plain": [
       "[PFI Drum1,\n",
       " PFI Drum2,\n",
       " PFI Drum3,\n",
       " PFI Drum4,\n",
       " PFI Drum5,\n",
       " PFI Drum6,\n",
       " PFI Drum7,\n",
       " PFI Drum8,\n",
       " PFI Drum9,\n",
       " PFI Drum10,\n",
       " PFI Drum11,\n",
       " PFI Drum12,\n",
       " PFI Drum13,\n",
       " PFI Drum14,\n",
       " PFI Drum15]"
      ]
     },
     "execution_count": 16,
     "metadata": {},
     "output_type": "execute_result"
    }
   ],
   "source": [
    "detroit_pfi = storage_cell('pfi', num_drums=15, facility='DETROITMI')\n",
    "detroit_pfi.drums"
   ]
  },
  {
   "cell_type": "code",
   "execution_count": 17,
   "metadata": {},
   "outputs": [
    {
     "data": {
      "text/plain": [
       "[PFI Drum1,\n",
       " PFI Drum2,\n",
       " PFI Drum3,\n",
       " PFI Drum4,\n",
       " PFI Drum5,\n",
       " PFI Drum6,\n",
       " PFI Drum7,\n",
       " PFI Drum8,\n",
       " PFI Drum9,\n",
       " PFI Drum10,\n",
       " PFI Drum11,\n",
       " PFI Drum12,\n",
       " PFI Drum13,\n",
       " PFI Drum14,\n",
       " PFI Drum15]"
      ]
     },
     "execution_count": 17,
     "metadata": {},
     "output_type": "execute_result"
    }
   ],
   "source": [
    "detroit_pfi.empty_drums"
   ]
  },
  {
   "cell_type": "code",
   "execution_count": 18,
   "metadata": {},
   "outputs": [
    {
     "data": {
      "text/plain": [
       "10000"
      ]
     },
     "execution_count": 18,
     "metadata": {},
     "output_type": "execute_result"
    }
   ],
   "source": [
    "detroit_pfi.drums[0].capacity"
   ]
  },
  {
   "cell_type": "code",
   "execution_count": 19,
   "metadata": {},
   "outputs": [],
   "source": [
    "detroit_pfi.drums[0].contents"
   ]
  },
  {
   "cell_type": "code",
   "execution_count": 20,
   "metadata": {},
   "outputs": [],
   "source": [
    "detroit_pfi.fill_drums(detroit_classifier.empty_machines(10000))"
   ]
  },
  {
   "cell_type": "code",
   "execution_count": 24,
   "metadata": {},
   "outputs": [
    {
     "data": {
      "text/plain": [
       "16000"
      ]
     },
     "execution_count": 24,
     "metadata": {},
     "output_type": "execute_result"
    }
   ],
   "source": [
    "detroit_pfi.drums[-1].contents"
   ]
  },
  {
   "cell_type": "code",
   "execution_count": 23,
   "metadata": {},
   "outputs": [
    {
     "data": {
      "text/plain": [
       "[PFI Drum15, PFI Drum14, PFI Drum13, PFI Drum12, PFI Drum11]"
      ]
     },
     "execution_count": 23,
     "metadata": {},
     "output_type": "execute_result"
    }
   ],
   "source": [
    "detroit_pfi.full_drums"
   ]
  },
  {
   "cell_type": "code",
   "execution_count": 22,
   "metadata": {},
   "outputs": [
    {
     "data": {
      "text/plain": [
       "[PFI Drum1,\n",
       " PFI Drum2,\n",
       " PFI Drum3,\n",
       " PFI Drum4,\n",
       " PFI Drum5,\n",
       " PFI Drum6,\n",
       " PFI Drum7,\n",
       " PFI Drum8,\n",
       " PFI Drum9,\n",
       " PFI Drum10]"
      ]
     },
     "execution_count": 22,
     "metadata": {},
     "output_type": "execute_result"
    }
   ],
   "source": [
    "detroit_pfi.empty_drums"
   ]
  },
  {
   "cell_type": "markdown",
   "metadata": {},
   "source": [
    "## 4. Pre-Finish Operation (PFO) <a class=\"anchor\" id=\"fourth-bullet\"></a>\n",
    "\n",
    "PFI drums are now emptied into a tank which applies flavoring to jelly beans of a given color and size (i.e., the tank can only hold 1 unique color-size-flavor combinations at any given time). The number of tanks, tank capacity, and processing rate are given for each facility as part of the problem statement.\n",
    "\n",
    "Rules:\n",
    "1. If there is more than 1 PFO tank, assume the rate for each tank is the same.\n",
    "2. When flavors are changed, there is a change-over duration of 5 minutes.\n",
    "3. There is no change-over duration between size changes."
   ]
  },
  {
   "cell_type": "code",
   "execution_count": 25,
   "metadata": {},
   "outputs": [],
   "source": [
    "detroit_pfo = processing_cell('pfo', num_machines=2, facility='DETROITMI')"
   ]
  },
  {
   "cell_type": "code",
   "execution_count": 26,
   "metadata": {},
   "outputs": [
    {
     "data": {
      "text/plain": [
       "pfo Processing Cell"
      ]
     },
     "execution_count": 26,
     "metadata": {},
     "output_type": "execute_result"
    }
   ],
   "source": [
    "detroit_pfo"
   ]
  },
  {
   "cell_type": "code",
   "execution_count": 27,
   "metadata": {},
   "outputs": [
    {
     "data": {
      "text/plain": [
       "[pfo0, pfo1]"
      ]
     },
     "execution_count": 27,
     "metadata": {},
     "output_type": "execute_result"
    }
   ],
   "source": [
    "detroit_pfo.machines"
   ]
  },
  {
   "cell_type": "code",
   "execution_count": 28,
   "metadata": {},
   "outputs": [],
   "source": [
    "detroit_pfo.load_machines(10000, jb_color='Coloring Agent1', jb_size='S1', jb_flavor='F1')"
   ]
  },
  {
   "cell_type": "code",
   "execution_count": 29,
   "metadata": {},
   "outputs": [],
   "source": [
    "pfo0 = detroit_pfo.machines[0]"
   ]
  },
  {
   "cell_type": "code",
   "execution_count": 30,
   "metadata": {},
   "outputs": [
    {
     "data": {
      "text/plain": [
       "False"
      ]
     },
     "execution_count": 30,
     "metadata": {},
     "output_type": "execute_result"
    }
   ],
   "source": [
    "pfo0.available"
   ]
  },
  {
   "cell_type": "code",
   "execution_count": 31,
   "metadata": {},
   "outputs": [
    {
     "data": {
      "text/html": [
       "<div>\n",
       "<style scoped>\n",
       "    .dataframe tbody tr th:only-of-type {\n",
       "        vertical-align: middle;\n",
       "    }\n",
       "\n",
       "    .dataframe tbody tr th {\n",
       "        vertical-align: top;\n",
       "    }\n",
       "\n",
       "    .dataframe thead th {\n",
       "        text-align: right;\n",
       "    }\n",
       "</style>\n",
       "<table border=\"1\" class=\"dataframe\">\n",
       "  <thead>\n",
       "    <tr style=\"text-align: right;\">\n",
       "      <th></th>\n",
       "      <th>Color</th>\n",
       "      <th>Size</th>\n",
       "      <th>Flavor</th>\n",
       "      <th>Queue</th>\n",
       "    </tr>\n",
       "  </thead>\n",
       "  <tbody>\n",
       "    <tr>\n",
       "      <th>1</th>\n",
       "      <td>Coloring Agent1</td>\n",
       "      <td>S1</td>\n",
       "      <td>F1</td>\n",
       "      <td>10000</td>\n",
       "    </tr>\n",
       "  </tbody>\n",
       "</table>\n",
       "</div>"
      ],
      "text/plain": [
       "             Color Size Flavor  Queue\n",
       "1  Coloring Agent1   S1     F1  10000"
      ]
     },
     "execution_count": 31,
     "metadata": {},
     "output_type": "execute_result"
    }
   ],
   "source": [
    "pfo0.queue"
   ]
  },
  {
   "cell_type": "code",
   "execution_count": 32,
   "metadata": {},
   "outputs": [
    {
     "data": {
      "text/html": [
       "<div>\n",
       "<style scoped>\n",
       "    .dataframe tbody tr th:only-of-type {\n",
       "        vertical-align: middle;\n",
       "    }\n",
       "\n",
       "    .dataframe tbody tr th {\n",
       "        vertical-align: top;\n",
       "    }\n",
       "\n",
       "    .dataframe thead th {\n",
       "        text-align: right;\n",
       "    }\n",
       "</style>\n",
       "<table border=\"1\" class=\"dataframe\">\n",
       "  <thead>\n",
       "    <tr style=\"text-align: right;\">\n",
       "      <th></th>\n",
       "      <th>Color</th>\n",
       "      <th>Size</th>\n",
       "      <th>Flavor</th>\n",
       "      <th>Queue</th>\n",
       "    </tr>\n",
       "  </thead>\n",
       "  <tbody>\n",
       "    <tr>\n",
       "      <th>1</th>\n",
       "      <td>Coloring Agent1</td>\n",
       "      <td>S1</td>\n",
       "      <td>F1</td>\n",
       "      <td>10000</td>\n",
       "    </tr>\n",
       "  </tbody>\n",
       "</table>\n",
       "</div>"
      ],
      "text/plain": [
       "             Color Size Flavor  Queue\n",
       "1  Coloring Agent1   S1     F1  10000"
      ]
     },
     "execution_count": 32,
     "metadata": {},
     "output_type": "execute_result"
    }
   ],
   "source": [
    "pfo0.empty()"
   ]
  },
  {
   "cell_type": "code",
   "execution_count": 33,
   "metadata": {},
   "outputs": [],
   "source": [
    "pfo0.queue.Queue = pfo0.queue.Queue - 10000"
   ]
  },
  {
   "cell_type": "code",
   "execution_count": 34,
   "metadata": {},
   "outputs": [
    {
     "data": {
      "text/html": [
       "<div>\n",
       "<style scoped>\n",
       "    .dataframe tbody tr th:only-of-type {\n",
       "        vertical-align: middle;\n",
       "    }\n",
       "\n",
       "    .dataframe tbody tr th {\n",
       "        vertical-align: top;\n",
       "    }\n",
       "\n",
       "    .dataframe thead th {\n",
       "        text-align: right;\n",
       "    }\n",
       "</style>\n",
       "<table border=\"1\" class=\"dataframe\">\n",
       "  <thead>\n",
       "    <tr style=\"text-align: right;\">\n",
       "      <th></th>\n",
       "      <th>Color</th>\n",
       "      <th>Size</th>\n",
       "      <th>Flavor</th>\n",
       "      <th>Queue</th>\n",
       "    </tr>\n",
       "  </thead>\n",
       "  <tbody>\n",
       "    <tr>\n",
       "      <th>1</th>\n",
       "      <td>Coloring Agent1</td>\n",
       "      <td>S1</td>\n",
       "      <td>F1</td>\n",
       "      <td>0</td>\n",
       "    </tr>\n",
       "  </tbody>\n",
       "</table>\n",
       "</div>"
      ],
      "text/plain": [
       "             Color Size Flavor  Queue\n",
       "1  Coloring Agent1   S1     F1      0"
      ]
     },
     "execution_count": 34,
     "metadata": {},
     "output_type": "execute_result"
    }
   ],
   "source": [
    "pfo0.empty()"
   ]
  },
  {
   "cell_type": "code",
   "execution_count": 35,
   "metadata": {},
   "outputs": [
    {
     "data": {
      "text/plain": [
       "'Coloring Agent1'"
      ]
     },
     "execution_count": 35,
     "metadata": {},
     "output_type": "execute_result"
    }
   ],
   "source": [
    "pfo0.jb_color"
   ]
  },
  {
   "cell_type": "code",
   "execution_count": 36,
   "metadata": {},
   "outputs": [
    {
     "data": {
      "text/plain": [
       "True"
      ]
     },
     "execution_count": 36,
     "metadata": {},
     "output_type": "execute_result"
    }
   ],
   "source": [
    "pfo0.available"
   ]
  },
  {
   "cell_type": "markdown",
   "metadata": {},
   "source": [
    "## 5. Pack Inventory (PI) Store <a class=\"anchor\" id=\"fourth-bullet\"></a>\n",
    "\n",
    "Once the PFO is complete, flavored jelly beans are staged in PI drums. Each PI drum contains fully differentiated product: jelly beans grouped by color, size, and flavor. The number of drums and their capacities vary by site and are given within the problem statement.\n",
    "\n",
    "Rules:\n",
    "1. Release of jelly beans into the PFO follows a 'FIFO' policy by default (other policies are allowed but must be explicitly specified).\n",
    "2. Jelly beans flow continuously from the PFI store through the PFO into the PI store. It can be assumed that any PFO can feed any PI drum.\n",
    "3. To avoid overflow, PI drums are filled to 95%.\n",
    "4. PI drums can only be emptied into the Packaging operation once they have been disengaged from the PFO.\n",
    "5. The lowest PI Drum number is filled up first.\n",
    "6. Jelly bean colors, flavors, and sizes cannot be mixed in a given drum.\n",
    "7. Only one PI drum can be emptied into the Packaging operation at a time.\n",
    "8. The quantity of jelly beans released into the Packaging operation will be determined by the Work Orders."
   ]
  },
  {
   "cell_type": "code",
   "execution_count": 37,
   "metadata": {},
   "outputs": [],
   "source": [
    "detroit_pi = storage_cell('pi', num_drums=8, facility='DETROITMI')"
   ]
  },
  {
   "cell_type": "code",
   "execution_count": 38,
   "metadata": {},
   "outputs": [
    {
     "data": {
      "text/plain": [
       "[FI Drum 1,\n",
       " FI Drum 2,\n",
       " FI Drum 3,\n",
       " FI Drum 4,\n",
       " FI Drum 5,\n",
       " FI Drum 6,\n",
       " FI Drum 7,\n",
       " FI Drum 8]"
      ]
     },
     "execution_count": 38,
     "metadata": {},
     "output_type": "execute_result"
    }
   ],
   "source": [
    "detroit_pi.drums"
   ]
  },
  {
   "cell_type": "code",
   "execution_count": 39,
   "metadata": {},
   "outputs": [],
   "source": [
    "drum = detroit_pi.drums[1]\n",
    "drum.contents"
   ]
  },
  {
   "cell_type": "code",
   "execution_count": 40,
   "metadata": {},
   "outputs": [
    {
     "data": {
      "text/plain": [
       "20000"
      ]
     },
     "execution_count": 40,
     "metadata": {},
     "output_type": "execute_result"
    }
   ],
   "source": [
    "drum.capacity"
   ]
  },
  {
   "cell_type": "code",
   "execution_count": 41,
   "metadata": {},
   "outputs": [
    {
     "data": {
      "text/plain": [
       "[]"
      ]
     },
     "execution_count": 41,
     "metadata": {},
     "output_type": "execute_result"
    }
   ],
   "source": [
    "detroit_pi.full_drums"
   ]
  },
  {
   "cell_type": "code",
   "execution_count": 42,
   "metadata": {},
   "outputs": [
    {
     "data": {
      "text/plain": [
       "[FI Drum 1,\n",
       " FI Drum 2,\n",
       " FI Drum 3,\n",
       " FI Drum 4,\n",
       " FI Drum 5,\n",
       " FI Drum 6,\n",
       " FI Drum 7,\n",
       " FI Drum 8]"
      ]
     },
     "execution_count": 42,
     "metadata": {},
     "output_type": "execute_result"
    }
   ],
   "source": [
    "detroit_pi.empty_drums"
   ]
  },
  {
   "cell_type": "markdown",
   "metadata": {},
   "source": [
    "## 6. Packaging Operation <a class=\"anchor\" id=\"sixth-bullet\"></a>\n",
    "\n",
    "PI drums are emptied for packaging either a bag or a box; i.e., a drum can only be emptied to feed a bag or a box.\n",
    "\n",
    "Rules:\n",
    "1. The bagging and box lines cannot be run simultaneously.\n",
    "2. The box line takes precedence over the bagging line.\n",
    "3. Orders for boxes are fulfilled prior to orders for bags.\n",
    "4. All excess material is to be stored in bags."
   ]
  },
  {
   "cell_type": "code",
   "execution_count": null,
   "metadata": {},
   "outputs": [],
   "source": [
    "detroit_packaging = processing_cell(\n",
    "    'packaging',\n",
    "    facility='DETROITMI'\n",
    "    bagging_machines=1, \n",
    "    boxing_machines=1\n",
    ")"
   ]
  },
  {
   "cell_type": "markdown",
   "metadata": {},
   "source": [
    "## Workorder Processing"
   ]
  },
  {
   "cell_type": "markdown",
   "metadata": {},
   "source": [
    "## Testing & Validation"
   ]
  },
  {
   "cell_type": "markdown",
   "metadata": {},
   "source": [
    "### Facility Initialization"
   ]
  }
 ],
 "metadata": {
  "kernelspec": {
   "display_name": "Python 3",
   "language": "python",
   "name": "python3"
  },
  "language_info": {
   "codemirror_mode": {
    "name": "ipython",
    "version": 3
   },
   "file_extension": ".py",
   "mimetype": "text/x-python",
   "name": "python",
   "nbconvert_exporter": "python",
   "pygments_lexer": "ipython3",
   "version": "3.7.3"
  }
 },
 "nbformat": 4,
 "nbformat_minor": 2
}
