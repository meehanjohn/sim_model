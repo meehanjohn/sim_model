{
 "cells": [
  {
   "cell_type": "markdown",
   "metadata": {},
   "source": [
    "# Simulating Process Flow\n",
    "\n",
    "# Stages of Manufacturing\n",
    "\n",
    "## 1. Raw Material Inventory Store\n",
    "\n",
    "## 2. Classifier\n",
    "\n",
    "## 3. Pre-Finish Inventory Store\n",
    "\n",
    "## 4. Pre-Finish Operation\n",
    "\n",
    "## 5. Pack Inventory Store\n",
    "\n",
    "## 6. Packaging"
   ]
  },
  {
   "cell_type": "markdown",
   "metadata": {},
   "source": [
    "## 1. Raw Material Inventory (RMI) Store\n",
    "Several drums act as an inventory store for raw material. The number of drums and their capacities varies by site. Drums can only hold jelly beans with the same color (many-to-one relationship between drums and jelly beans of a given color). One RMI drum can be released at a time into the classifier.\n",
    "\n",
    "Rules:\n",
    "1. Order of release from RMI drums is dictated by workorders\n",
    "2. If there are two RMI drums with the same color at a given location, start emptying the drum with the lower equipment number first\n",
    "3. Releasing jelly beans from a drum is only allowed if there are at least 5 pre-finished inventory bins empty and available (the next step, classification, is a continuous process which fills pre-finished inventory bins)"
   ]
  },
  {
   "cell_type": "code",
   "execution_count": null,
   "metadata": {},
   "outputs": [],
   "source": [
    "import pandas as pd\n",
    "# from sklearn import "
   ]
  },
  {
   "cell_type": "code",
   "execution_count": null,
   "metadata": {},
   "outputs": [],
   "source": [
    "class facility:\n",
    "    def __init__(self, name):\n",
    "        "
   ]
  },
  {
   "cell_type": "code",
   "execution_count": null,
   "metadata": {},
   "outputs": [],
   "source": [
    "class rmi_store:\n",
    "    def __init__(self, location):\n",
    "        # Initialize RMI Store for a given location w/ general properties\n",
    "        self.num_drums = 99\n",
    "        self.colors = ['','','']\n",
    "        self.fill_store()\n",
    "        self.order_drums()\n",
    "        \n",
    "    def fill_store():\n",
    "        # Initialize RMI Drums for a given RMI Store\n",
    "        for row in rmi_inventory_level:\n",
    "            name = ''\n",
    "            rmi_drum(location, name)\n",
    "            \n",
    "    def order_drums():\n",
    "        # Sort list of drums according to work order\n",
    "    \n",
    "class rmi_drum:\n",
    "    def __init__(self, location):\n",
    "        self.name = 'RMI DRUM1'\n",
    "        self.color = 'Coloring Agent21'\n",
    "        self.start_qty = 300000\n",
    "        self.capacity = 300000\n",
    "        self.fill()\n",
    "        \n",
    "    def fill(self):\n",
    "        self.final_qty = self.start_qty + self.addtl_qty\n",
    "        \n",
    "    def empty(self):\n",
    "        self.lb_qty = 0\n",
    "        \n",
    "    "
   ]
  },
  {
   "cell_type": "markdown",
   "metadata": {},
   "source": [
    "## 2. Classifier\n",
    "\n",
    "The RMI drums contain jelly beans of the same color, but of varying size. RMI drums are emptied one by one into the classifier, which sorts jelly beans into 5 distinct sizes. Percentage split of each jelly bean size for a given color is provided."
   ]
  },
  {
   "cell_type": "code",
   "execution_count": null,
   "metadata": {},
   "outputs": [],
   "source": [
    "class classifier:\n",
    "    def __init__(self, location, color):\n",
    "        self.split = {\n",
    "            'S1':12,\n",
    "            'S2':29,\n",
    "            'S3':13,\n",
    "            'S4':19,\n",
    "            'S5':27\n",
    "        }\n",
    "        \n",
    "    def classify():\n",
    "        # Return quantity of each size of jelly bean\n",
    "        "
   ]
  },
  {
   "cell_type": "markdown",
   "metadata": {},
   "source": [
    "## 3. Pre-Finish Inventory (PFI) Store\n",
    "\n",
    "Jelly beans sorted by the classifier are stored in PFI drums. Drums are assigned a specific jelly bean size and color to avoid contamination (the PFI drums are reused once the drums are emptied into the Pre-Finish Operation). As mentioned earlier, 5 PFI drums (one for each size) must be empty before an RMI drum can be unloaded (thus starting the classification process).\n",
    "\n",
    "Rules:\n",
    "1. The classification process simultaneously splits the jelly beans according to the given ratios directly into the PFI drums\n",
    "2. Fundamentally any PFI drum can be filled with any size of jelly bean; however, once the assignment is made for a given work order, the PFI drum must only hand jelly beans of that size & color until the work order is completely processed\n",
    "3. PFI drums can only be filled to 95% capacity\n",
    "4. PFI drums are only available to be emptied into the Pre-Finish Operation once filling has stopped"
   ]
  },
  {
   "cell_type": "code",
   "execution_count": null,
   "metadata": {},
   "outputs": [],
   "source": [
    "class pfi_store:\n",
    "    def __init__(self, location):\n",
    "        self.num_drums = 99\n",
    "        self.fill_store()\n",
    "        self.assign_drums()\n",
    "        \n",
    "    def fill_store():\n",
    "        \n",
    "    def assign_drums():\n",
    "        \n",
    "class pfi_drum:\n",
    "    def __init__(self, location, name, capacity):\n",
    "        self.location = location\n",
    "        self.name = name\n",
    "        self.capacity = capacity\n",
    "        \n",
    "    def assign(self, jb_color, jb_size)\n",
    "        self.jb_color = jb_color\n",
    "        self.jb_size = jb_size\n",
    "        \n",
    "    def fill():\n",
    "        \n",
    "        \n",
    "    def empty():\n",
    "        \n",
    "        "
   ]
  }
 ],
 "metadata": {
  "kernelspec": {
   "display_name": "Python 3",
   "language": "python",
   "name": "python3"
  },
  "language_info": {
   "codemirror_mode": {
    "name": "ipython",
    "version": 3
   },
   "file_extension": ".py",
   "mimetype": "text/x-python",
   "name": "python",
   "nbconvert_exporter": "python",
   "pygments_lexer": "ipython3",
   "version": "3.7.3"
  }
 },
 "nbformat": 4,
 "nbformat_minor": 2
}
