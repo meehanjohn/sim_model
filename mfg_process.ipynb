{
 "cells": [
  {
   "cell_type": "markdown",
   "metadata": {},
   "source": [
    "# Simulating Process Flow\n",
    "\n",
    "# Stages of Manufacturing\n",
    "\n",
    "## 1. Raw Material Inventory Store\n",
    "\n",
    "## 2. Classifier\n",
    "\n",
    "## 3. Pre-Finish Inventory Store\n",
    "\n",
    "## 4. Pre-Finish Operation\n",
    "\n",
    "## 5. Pack Inventory Store\n",
    "\n",
    "## 6. Packaging"
   ]
  },
  {
   "cell_type": "markdown",
   "metadata": {},
   "source": [
    "## 1. Raw Material Inventory (RMI) Store\n",
    "Several drums act as an inventory store for raw material. The number of drums and their capacities varies by site. Drums can only hold jelly beans with the same color (many-to-one relationship between drums and jelly beans of a given color). One RMI drum can be released at a time into the classifier.\n",
    "\n",
    "Rules:\n",
    "1. Order of release from RMI drums is dictated by workorders\n",
    "2. If there are two RMI drums with the same color at a given location, start emptying the drum with the lower equipment number first\n",
    "3. Releasing jelly beans from a drum is only allowed if there are at least 5 pre-finished inventory bins empty and available (the next step, classification, is a continuous process which fills pre-finished inventory bins)"
   ]
  },
  {
   "cell_type": "code",
   "execution_count": 1,
   "metadata": {},
   "outputs": [],
   "source": [
    "import pandas as pd\n",
    "import numpy as np\n",
    "# from sklearn import "
   ]
  },
  {
   "cell_type": "code",
   "execution_count": 2,
   "metadata": {},
   "outputs": [],
   "source": [
    "class facility:\n",
    "    def __init__(self, location):\n",
    "        self.location = location\n",
    "        print(\"Building {0} Facility Details...\".format(location))\n",
    "        self.rmi_store = rmi_store(location)\n",
    "        self.classifier = classifier(location)\n",
    "        self.pfi_store = pfi_store(location)\n",
    "        \n",
    "    def __repr__(self):\n",
    "        return(\"{0}\".format(self.location))"
   ]
  },
  {
   "cell_type": "code",
   "execution_count": 3,
   "metadata": {},
   "outputs": [],
   "source": [
    "class rmi_store:\n",
    "    def __init__(self, location):\n",
    "        # Initialize RMI Store for a given location w/ general properties\n",
    "        rmi_il = pd.read_csv('rmi_inventory_level.csv')\n",
    "        rmi_il = rmi_il[rmi_il['Location Name'] == location]\n",
    "\n",
    "        \n",
    "        self.facility = location\n",
    "        self.num_drums = len(rmi_il)\n",
    "        self.colors = rmi_il['Color'].dropna()\n",
    "        \n",
    "        self.fill_rmi_store(rmi_il)\n",
    "        self.fill_pfi_store(pfi_drums)\n",
    "        #self.order_drums()\n",
    "        \n",
    "    def __repr__(self):\n",
    "        return(\n",
    "            \"{0} RMI Store \\n\"\n",
    "            \"Containing {1} Drums \\n\"\n",
    "            \"With {2} Unique Colors\"\n",
    "            .format(self.facility, self.num_drums, len(self.colors))\n",
    "        )        \n",
    "    \n",
    "    def order_drums():\n",
    "    # Sort list of drums according to work order\n",
    "        pass\n",
    "            \n",
    "            \n",
    "class rmi_drum:\n",
    "    def __init__(self, drum_id, color, start_qty, capacity):\n",
    "        self.id = drum_id\n",
    "        self.color = color\n",
    "        self.start_qty = start_qty\n",
    "        self.capacity = capacity\n",
    "        #self.fill()\n",
    "    \n",
    "    def __repr__(self):\n",
    "        return(self.id)\n",
    "    \n",
    "    def fill(self, addtl_qty):\n",
    "        self.final_qty = self.start_qty + self.addtl_qty\n",
    "        \n",
    "    def empty(self):\n",
    "        self.lb_qty = 0"
   ]
  },
  {
   "cell_type": "code",
   "execution_count": 4,
   "metadata": {},
   "outputs": [
    {
     "name": "stdout",
     "output_type": "stream",
     "text": [
      "Building Detroit, MI Facility Details...\n",
      "Filling RMI Store...\n",
      "Detroit, MI RMI Store \n",
      "Containing 40 Drums \n",
      "With 38 Unique Colors\n",
      "[RMI DRUM1, RMI DRUM2, RMI DRUM3, RMI DRUM4, RMI DRUM5]\n",
      "RMI DRUM2\n",
      "300,000\n"
     ]
    }
   ],
   "source": [
    "detroit = facility('Detroit, MI')\n",
    "print(detroit.rmi_store)\n",
    "print(detroit.rmi_store.drums[0:5])\n",
    "print(detroit.rmi_store.drums[1])\n",
    "print(detroit.rmi_store.drums[1].capacity)"
   ]
  },
  {
   "cell_type": "code",
   "execution_count": 5,
   "metadata": {
    "scrolled": true
   },
   "outputs": [
    {
     "name": "stdout",
     "output_type": "stream",
     "text": [
      "Building Columbus, OH Facility Details...\n",
      "Filling RMI Store...\n",
      "Columbus, OH RMI Store \n",
      "Containing 30 Drums \n",
      "With 28 Unique Colors\n",
      "[RMI DRUM1, RMI DRUM2, RMI DRUM3, RMI DRUM4, RMI DRUM5]\n",
      "RMI DRUM2\n",
      "320,000\n"
     ]
    }
   ],
   "source": [
    "columbus = facility('Columbus, OH')\n",
    "print(columbus.rmi_store)\n",
    "print(columbus.rmi_store.drums[0:5])\n",
    "print(columbus.rmi_store.drums[1])\n",
    "print(columbus.rmi_store.drums[1].capacity)"
   ]
  },
  {
   "cell_type": "markdown",
   "metadata": {},
   "source": [
    "## 2. Classifier\n",
    "\n",
    "The RMI drums contain jelly beans of the same color, but of varying size. RMI drums are emptied one by one into the classifier, which sorts jelly beans into 5 distinct sizes. Percentage split of each jelly bean size for a given color is provided."
   ]
  },
  {
   "cell_type": "code",
   "execution_count": null,
   "metadata": {},
   "outputs": [],
   "source": [
    "class classifier:\n",
    "    def __init__(self, location, color):\n",
    "        split = pd.read_csv('classifier_split.csv')\n",
    "        split = split[split['Color'] == color]\n",
    "        rates = pd.read_csv('classifier_rate.csv')\n",
    "        \n",
    "        self.rate = rates[rates['Site'] == location]['Processing_Rate']\n",
    "        self.id = rates[rates['Site'] == location]['Classifier']\n",
    "        \n",
    "        \n",
    "\n",
    "    \n",
    "    def check_pfi_bins(self):\n",
    "        \n",
    "    \n",
    "    def classify():\n",
    "        # Return quantity of each size of jelly bean\n",
    "        "
   ]
  },
  {
   "cell_type": "markdown",
   "metadata": {},
   "source": [
    "## 3. Pre-Finish Inventory (PFI) Store\n",
    "\n",
    "Jelly beans sorted by the classifier are stored in PFI drums. Drums are assigned a specific jelly bean size and color to avoid contamination (the PFI drums are reused once the drums are emptied into the Pre-Finish Operation). As mentioned earlier, 5 PFI drums (one for each size) must be empty before an RMI drum can be unloaded (thus starting the classification process).\n",
    "\n",
    "Rules:\n",
    "1. The classification process simultaneously splits the jelly beans according to the given ratios directly into the PFI drums\n",
    "2. Fundamentally any PFI drum can be filled with any size of jelly bean; however, once the assignment is made for a given work order, the PFI drum must only hand jelly beans of that size & color until the work order is completely processed\n",
    "3. PFI drums can only be filled to 95% capacity\n",
    "4. PFI drums are only available to be emptied into the Pre-Finish Operation once filling has stopped"
   ]
  },
  {
   "cell_type": "code",
   "execution_count": null,
   "metadata": {},
   "outputs": [],
   "source": [
    "class pfi_store:\n",
    "    def __init__(self, location):\n",
    "        pfi_drums = pd.read_csv('pfi_drum.csv')\n",
    "        pfi_drums = pfi_drums[pfi_drums['Site'] == location]\n",
    "        \n",
    "        self.facility = location\n",
    "        self.num_drums = len(pfi_drums)\n",
    "        \n",
    "        self.fill_store()\n",
    "        self.assign_drums()\n",
    "        \n",
    "    def __repr__(self):\n",
    "        return(\n",
    "            \"{0} PFI Store \\n\"\n",
    "            \"Containing {1} Drums\"\n",
    "            .format(self.facility, self.num_drums)\n",
    "        )     \n",
    "        \n",
    "    def fill_store(self, df)\n",
    "        print('Defining PFI Drums...')\n",
    "        self.drums = [\n",
    "            pfi_drum(\n",
    "            row['Drum Number'],\n",
    "            row['Capacity In pounds']\n",
    "            )\n",
    "            for index, row in df.iterrows()\n",
    "        ]\n",
    "        \n",
    "    def assign_drums():\n",
    "        \n",
    "        \n",
    "class pfi_drum:\n",
    "    def __init__(self, drum_id, capacity):\n",
    "        self.id = drum_id\n",
    "        self.capacity = capacity\n",
    "        self.contents = 0\n",
    "        \n",
    "    def __repr__(self):\n",
    "        return(self.id)\n",
    "    \n",
    "    def assign(self, jb_color, jb_size)\n",
    "        self.jb_color = jb_color\n",
    "        self.jb_size = jb_size\n",
    "    \n",
    "    def fill(self, amount):\n",
    "        self.contents += amount\n",
    "        \n",
    "    def empty(self)\n",
    "        self.contents = 0"
   ]
  }
 ],
 "metadata": {
  "kernelspec": {
   "display_name": "Python 3",
   "language": "python",
   "name": "python3"
  },
  "language_info": {
   "codemirror_mode": {
    "name": "ipython",
    "version": 3
   },
   "file_extension": ".py",
   "mimetype": "text/x-python",
   "name": "python",
   "nbconvert_exporter": "python",
   "pygments_lexer": "ipython3",
   "version": "3.7.3"
  }
 },
 "nbformat": 4,
 "nbformat_minor": 2
}
