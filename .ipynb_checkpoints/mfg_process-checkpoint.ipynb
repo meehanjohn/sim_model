{
 "cells": [
  {
   "cell_type": "markdown",
   "metadata": {},
   "source": [
    "# Simulating Process Flow\n",
    "\n",
    "# Stages of Manufacturing\n",
    "\n",
    "## 1. [Raw Material Inventory Store](#first-bullet)\n",
    "\n",
    "## 2. [Classifier](#second-bullet)\n",
    "\n",
    "## 3. [Pre-Finish Inventory Store](#third-bullet)\n",
    "\n",
    "## 4. [Pre-Finish Operation](#fourth-bullet)\n",
    "\n",
    "## 5. [Pack Inventory Store](#fifth-bullet)\n",
    "\n",
    "## 6. [Packaging](#sixth-bullet)"
   ]
  },
  {
   "cell_type": "markdown",
   "metadata": {},
   "source": [
    "![process_flow_diagram](misc/process_flow_diagram.svg)"
   ]
  },
  {
   "cell_type": "markdown",
   "metadata": {},
   "source": [
    "# TODO:\n",
    "- **RMI Store**\n",
    "    - order_drums(): sort drums as dictated by work orders \n",
    "- **Classifier**\n",
    "    - ~~check_pfi_bins(): ensure >5 empty bins available in PFI Store~~\n",
    "- **PFI Store**\n",
    "    - assign_drums(): ensure that a given drum maintains the same color & size through a given work order\n",
    "- **PFO Cell**\n",
    "    - ~~\\_\\_repr\\_\\_(): code proper representation of PFO Cell~~\n",
    "    - ~~assign_tanks(): determine number of tanks for a given site and initialize them~~\n",
    "- **PI Cell**\n",
    "    ~~- assign_drums():~~ \n",
    "- **Packaging Cell**\n",
    "- **Work Orders**\n",
    "- ~~Finish defining packing cell:~~\n",
    "    - ~~Assigning machines & properties~~\n",
    "    - ~~Defining bagging & boxing machines~~\n",
    "    - ~~Determining process rates~~\n",
    "- ~~Replace `location` with `plant_id`; update CSVs accordingly~~\n",
    "- Define how Work Orders are loaded and processed\n",
    "- Code the overarching simulation process\n",
    "- Refactoring:\n",
    "    - ~~Define super/subclass relationship for drums~~\n",
    "    - ~~Define super/subclass relationship for workcells?~~\n",
    "    - Pass queue info as dict instead of dataframe\n",
    "- Thoroughly comment code cells\n",
    "- Add markdown to illustrate important concepts; break up code cells as necessary\n",
    "- Add visualizations\n",
    "- Flowchart Edit Notes:\n",
    "    - Work orders dictate RMI Store drum order as well as PI Store order.\n",
    "    - Number and label each work cell for reference in the document.\n"
   ]
  },
  {
   "cell_type": "code",
   "execution_count": 49,
   "metadata": {},
   "outputs": [],
   "source": [
    "import pandas as pd\n",
    "import numpy as np\n",
    "import scipy.stats as stats\n",
    "from modules.storage_cell import storage_cell\n",
    "from modules.processing_cell import processing_cell\n",
    "from modules.facility import facility"
   ]
  },
  {
   "cell_type": "code",
   "execution_count": 50,
   "metadata": {},
   "outputs": [
    {
     "name": "stdout",
     "output_type": "stream",
     "text": [
      "Initializing rmi Cell\n",
      "Initializing classifier Cell\n",
      "Initializing pfi Cell\n",
      "Initializing pfo Cell\n",
      "Initializing pi Cell\n",
      "Initializing packaging Cell\n"
     ]
    }
   ],
   "source": [
    "detroit = facility('DETROITMI')"
   ]
  },
  {
   "cell_type": "code",
   "execution_count": 51,
   "metadata": {},
   "outputs": [],
   "source": [
    "rmi = detroit.rmi\n",
    "cfr = detroit.cfr\n",
    "pfi = detroit.pfi\n",
    "pfo = detroit.pfo\n",
    "pis = detroit.pis\n",
    "pck = detroit.pck"
   ]
  },
  {
   "cell_type": "code",
   "execution_count": 23,
   "metadata": {},
   "outputs": [],
   "source": [
    "time = 0\n",
    "transfer = pd.DataFrame(\n",
    "    {\n",
    "        'jb_color':['Coloring Agent1', 'Coloring Agent18'],\n",
    "        'amount':[45000, 250000]\n",
    "    }\n",
    ")\n",
    "rmi.load_drums(transfer, time=time)"
   ]
  },
  {
   "cell_type": "code",
   "execution_count": 24,
   "metadata": {},
   "outputs": [
    {
     "name": "stdout",
     "output_type": "stream",
     "text": [
      "Classifier Time: 87.71929824561404\n",
      "Global Time: 87.71929824561404\n"
     ]
    }
   ],
   "source": [
    "while len(cfr.avail_mach)>0: \n",
    "    cfr_in = next(rmi.unload_drums())\n",
    "    cfr_time = cfr.load_machines(**cfr_in)\n",
    "    print(\"Classifier Time: {0}\".format(cfr_time))\n",
    "time += cfr_time\n",
    "print(\"Global Time: {0}\".format(time))"
   ]
  },
  {
   "cell_type": "code",
   "execution_count": 25,
   "metadata": {},
   "outputs": [],
   "source": [
    "while len(pfi.empty_drums)>4:\n",
    "    pfi_cap = min([x.capacity for x in pfi.empty_drums])\n",
    "    cfr_out = next(cfr.unload_machines(pfi_cap))\n",
    "    pfi.load_drums(cfr_out, time=time)"
   ]
  },
  {
   "cell_type": "code",
   "execution_count": 26,
   "metadata": {},
   "outputs": [],
   "source": [
    "flavors = ['F1', 'F2', 'F3', 'F4', 'F5', 'F6', 'F7', 'F8', 'F9', 'F10', 'F11', 'F12', 'F13', 'F14', 'F15']\n",
    "flavor = (flavor for flavor in flavors)"
   ]
  },
  {
   "cell_type": "code",
   "execution_count": 34,
   "metadata": {},
   "outputs": [
    {
     "name": "stdout",
     "output_type": "stream",
     "text": [
      "PFO Time: 8.563935926968188\n",
      "PFO Time: 8.842486755881408\n",
      "Global Time: 118.51159518324468\n"
     ]
    }
   ],
   "source": [
    "while len(pfo.avail_mach)>0:\n",
    "    pfo_in = next(pfi.unload_drums())\n",
    "    pfo_in['jb_flavor'] = next(flavor)\n",
    "    pfo_time = pfo.load_machines(**pfo_in)\n",
    "    print(\"PFO Time: {0}\".format(pfo_time))\n",
    "time += pfo_time\n",
    "print(\"Global Time: {0}\".format(time))"
   ]
  },
  {
   "cell_type": "code",
   "execution_count": 35,
   "metadata": {},
   "outputs": [],
   "source": [
    "while len(pis.empty_drums)>0:\n",
    "    pis_cap = min([x.capacity for x in pis.empty_drums])\n",
    "    pfo_out = next(pfo.unload_machines(pis_cap))\n",
    "    pis.load_drums(pfo_out, time=time)"
   ]
  },
  {
   "cell_type": "code",
   "execution_count": null,
   "metadata": {},
   "outputs": [],
   "source": [
    "pis.full_drums"
   ]
  },
  {
   "cell_type": "code",
   "execution_count": 36,
   "metadata": {},
   "outputs": [],
   "source": [
    "package_types = ['Box', 'Box', 'Box', 'Bag', 'Bag']\n",
    "package_type = (pack for pack in package_types)"
   ]
  },
  {
   "cell_type": "code",
   "execution_count": 37,
   "metadata": {},
   "outputs": [
    {
     "name": "stdout",
     "output_type": "stream",
     "text": [
      "Packing Time: 2.795368862764303\n",
      "Packing Time: 2.8383066593290085\n",
      "Global Time: 121.34990184257369\n"
     ]
    }
   ],
   "source": [
    "while len(pck.avail_mach)>0:\n",
    "    pck_in = next(pis.unload_drums())\n",
    "    pck_in['package_type'] = next(package_type)\n",
    "    pck_time = pck.load_machines(**pck_in)\n",
    "    print(\"Packing Time: {0}\".format(pck_time))\n",
    "time += pck_time\n",
    "print(\"Global Time: {0}\".format(time))"
   ]
  },
  {
   "cell_type": "code",
   "execution_count": null,
   "metadata": {},
   "outputs": [],
   "source": [
    "pck_in = next(pis.unload_drums())"
   ]
  },
  {
   "cell_type": "code",
   "execution_count": null,
   "metadata": {},
   "outputs": [],
   "source": [
    "pck_in"
   ]
  },
  {
   "cell_type": "code",
   "execution_count": null,
   "metadata": {},
   "outputs": [],
   "source": [
    "pck_in['package_type'] = 'Box'"
   ]
  },
  {
   "cell_type": "code",
   "execution_count": null,
   "metadata": {},
   "outputs": [],
   "source": [
    "pck_in"
   ]
  },
  {
   "cell_type": "code",
   "execution_count": null,
   "metadata": {},
   "outputs": [],
   "source": [
    "pck_time = pck.load_machines(**pck_in)"
   ]
  },
  {
   "cell_type": "code",
   "execution_count": null,
   "metadata": {},
   "outputs": [],
   "source": [
    "pck.machines[0].queue"
   ]
  },
  {
   "cell_type": "code",
   "execution_count": null,
   "metadata": {},
   "outputs": [],
   "source": [
    "pck_time"
   ]
  },
  {
   "cell_type": "code",
   "execution_count": 57,
   "metadata": {},
   "outputs": [
    {
     "ename": "SyntaxError",
     "evalue": "invalid syntax (<ipython-input-57-7ba26eca4b8c>, line 11)",
     "output_type": "error",
     "traceback": [
      "\u001b[1;36m  File \u001b[1;32m\"<ipython-input-57-7ba26eca4b8c>\"\u001b[1;36m, line \u001b[1;32m11\u001b[0m\n\u001b[1;33m    pck_in['package_type'] = next(package_type)\u001b[0m\n\u001b[1;37m         ^\u001b[0m\n\u001b[1;31mSyntaxError\u001b[0m\u001b[1;31m:\u001b[0m invalid syntax\n"
     ]
    }
   ],
   "source": [
    "time=0\n",
    "flavors = ['F1', 'F2', 'F3', 'F4', 'F5', 'F6', 'F7', 'F8', 'F9', 'F10', 'F11', 'F12', 'F13', 'F14', 'F15']\n",
    "flavor = (flavor for flavor in flavors)\n",
    "\n",
    "package_types = ['Box', 'Box', 'Box', 'Bag', 'Bag']\n",
    "package_type = (pack for pack in package_types)\n",
    "\n",
    "while len(pis.empty_drums)!=0:\n",
    "    pck_in = next(pis.unload_drums())\n",
    "    pck_in['package_type'] = next(package_type)\n",
    "    pck_time = pck.load_machines(**pck_in)\n",
    "    print(\"Packing Time: {0}\".format(pck_time))\n",
    "    time += pck_time\n",
    "    print(\"Global Time: {0}\".format(time))\n",
    "\n",
    "    while len(pfo.avail_mach)!=0:\n",
    "        pis_cap = min([x.capacity for x in pis.empty_drums])\n",
    "        pfo_out = next(pfo.unload_machines(pis_cap))\n",
    "        pis.load_drums(pfo_out, time=time)\n",
    "        \n",
    "        while len(pfi.empty_drums)!=0:\n",
    "            pfo_in = next(pfi.unload_drums())\n",
    "            pfo_in['jb_flavor'] = next(flavor)\n",
    "            pfo_time = pfo.load_machines(**pfo_in)\n",
    "            print(\"PFO Time: {0}\".format(pfo_time))\n",
    "            time += pfo_time\n",
    "            print(\"Global Time: {0}\".format(time))\n",
    "\n",
    "            while len(cfr.avail_mach)!=0:\n",
    "                pfi_cap = min([x.capacity for x in pfi.empty_drums])\n",
    "                cfr_out = next(cfr.unload_machines(pfi_cap))\n",
    "                pfi.load_drums(cfr_out, time=time)\n",
    "                \n",
    "                while len(rmi.empty_drums)!=0:\n",
    "                    cfr_in = next(rmi.unload_drums())\n",
    "                    cfr_time = cfr.load_machines(**cfr_in)\n",
    "                    print(\"Classifier Time: {0}\".format(cfr_time))\n",
    "                    time += cfr_time\n",
    "                    print(\"Global Time: {0}\".format(time))\n",
    "                else:\n",
    "                    break\n",
    "            else:\n",
    "                break\n",
    "        else:\n",
    "            break\n",
    "    else:\n",
    "        break"
   ]
  },
  {
   "cell_type": "code",
   "execution_count": 53,
   "metadata": {},
   "outputs": [
    {
     "data": {
      "text/html": [
       "<div>\n",
       "<style scoped>\n",
       "    .dataframe tbody tr th:only-of-type {\n",
       "        vertical-align: middle;\n",
       "    }\n",
       "\n",
       "    .dataframe tbody tr th {\n",
       "        vertical-align: top;\n",
       "    }\n",
       "\n",
       "    .dataframe thead th {\n",
       "        text-align: right;\n",
       "    }\n",
       "</style>\n",
       "<table border=\"1\" class=\"dataframe\">\n",
       "  <thead>\n",
       "    <tr style=\"text-align: right;\">\n",
       "      <th></th>\n",
       "      <th>jb_color</th>\n",
       "      <th>jb_size</th>\n",
       "      <th>percentage</th>\n",
       "      <th>amount</th>\n",
       "    </tr>\n",
       "  </thead>\n",
       "  <tbody>\n",
       "    <tr>\n",
       "      <th>100</th>\n",
       "      <td>Coloring Agent21</td>\n",
       "      <td>S3</td>\n",
       "      <td>20</td>\n",
       "      <td>10000</td>\n",
       "    </tr>\n",
       "    <tr>\n",
       "      <th>101</th>\n",
       "      <td>Coloring Agent21</td>\n",
       "      <td>S1</td>\n",
       "      <td>26</td>\n",
       "      <td>10000</td>\n",
       "    </tr>\n",
       "    <tr>\n",
       "      <th>102</th>\n",
       "      <td>Coloring Agent21</td>\n",
       "      <td>S2</td>\n",
       "      <td>20</td>\n",
       "      <td>10000</td>\n",
       "    </tr>\n",
       "    <tr>\n",
       "      <th>103</th>\n",
       "      <td>Coloring Agent21</td>\n",
       "      <td>S5</td>\n",
       "      <td>16</td>\n",
       "      <td>10000</td>\n",
       "    </tr>\n",
       "    <tr>\n",
       "      <th>104</th>\n",
       "      <td>Coloring Agent21</td>\n",
       "      <td>S4</td>\n",
       "      <td>18</td>\n",
       "      <td>10000</td>\n",
       "    </tr>\n",
       "  </tbody>\n",
       "</table>\n",
       "</div>"
      ],
      "text/plain": [
       "             jb_color jb_size  percentage  amount\n",
       "100  Coloring Agent21      S3          20   10000\n",
       "101  Coloring Agent21      S1          26   10000\n",
       "102  Coloring Agent21      S2          20   10000\n",
       "103  Coloring Agent21      S5          16   10000\n",
       "104  Coloring Agent21      S4          18   10000"
      ]
     },
     "execution_count": 53,
     "metadata": {},
     "output_type": "execute_result"
    }
   ],
   "source": [
    "cfr_out"
   ]
  },
  {
   "cell_type": "markdown",
   "metadata": {},
   "source": [
    "## 1. Raw Material Inventory (RMI) Store <a class=\"anchor\" id=\"first-bullet\"></a>\n",
    "Several drums act as an inventory store for raw material. The number of drums and their capacities varies by site. Drums can only hold jelly beans with the same color (many-to-one relationship between drums and jelly beans of a given color). One RMI drum can be released at a time into the classifier.\n",
    "\n",
    "Rules:\n",
    "1. Order of release from RMI drums is dictated by workorders\n",
    "2. If there are two RMI drums with the same color at a given location, start emptying the drum with the lower equipment number first\n",
    "3. Releasing jelly beans from a drum is only allowed if there are at least 5 pre-finished inventory bins empty and available (the next step, classification, is a continuous process which fills pre-finished inventory bins)"
   ]
  },
  {
   "cell_type": "code",
   "execution_count": null,
   "metadata": {
    "scrolled": true
   },
   "outputs": [],
   "source": [
    "detroit_rmi = storage_cell('rmi', num_drums=40, facility='DETROITMI')"
   ]
  },
  {
   "cell_type": "code",
   "execution_count": null,
   "metadata": {},
   "outputs": [],
   "source": [
    "detroit_rmi.drums"
   ]
  },
  {
   "cell_type": "code",
   "execution_count": null,
   "metadata": {},
   "outputs": [],
   "source": [
    "detroit_rmi.full_drums"
   ]
  },
  {
   "cell_type": "code",
   "execution_count": null,
   "metadata": {},
   "outputs": [],
   "source": [
    "detroit_rmi.empty_drums"
   ]
  },
  {
   "cell_type": "code",
   "execution_count": null,
   "metadata": {},
   "outputs": [],
   "source": [
    "pre_prod_move = pd.DataFrame(\n",
    "    {\n",
    "        'Color':['Coloring Agent5', 'Coloring Agent2'],\n",
    "        'Rem':[176427, 161034]\n",
    "    }\n",
    ")"
   ]
  },
  {
   "cell_type": "code",
   "execution_count": null,
   "metadata": {},
   "outputs": [],
   "source": [
    "detroit_rmi.fill_drums(pre_prod_move)"
   ]
  },
  {
   "cell_type": "code",
   "execution_count": null,
   "metadata": {},
   "outputs": [],
   "source": [
    "detroit_rmi.full_drums"
   ]
  },
  {
   "cell_type": "code",
   "execution_count": null,
   "metadata": {},
   "outputs": [],
   "source": [
    "detroit_rmi.empty_drums"
   ]
  },
  {
   "cell_type": "code",
   "execution_count": null,
   "metadata": {},
   "outputs": [],
   "source": [
    "detroit_rmi.fill_drums(pre_prod_move)"
   ]
  },
  {
   "cell_type": "markdown",
   "metadata": {},
   "source": [
    "## 2. Classifier <a class=\"anchor\" id=\"second-bullet\"></a>\n",
    "\n",
    "The RMI drums contain jelly beans of the same color, but of varying size. RMI drums are emptied one by one into the classifier, which sorts jelly beans into 5 distinct sizes. Percentage split of each jelly bean size for a given color is provided with the problem statement."
   ]
  },
  {
   "cell_type": "code",
   "execution_count": null,
   "metadata": {},
   "outputs": [],
   "source": [
    "detroit_classifier = processing_cell('classifier', num_machines=1, facility='DETROITMI')"
   ]
  },
  {
   "cell_type": "code",
   "execution_count": null,
   "metadata": {
    "scrolled": true
   },
   "outputs": [],
   "source": [
    "detroit_classifier.load_machines(300000, jb_color='Coloring Agent1')"
   ]
  },
  {
   "cell_type": "code",
   "execution_count": null,
   "metadata": {},
   "outputs": [],
   "source": [
    "detroit_classifier.empty_machines(10000)"
   ]
  },
  {
   "cell_type": "code",
   "execution_count": null,
   "metadata": {},
   "outputs": [],
   "source": [
    "detroit_classifier.machines"
   ]
  },
  {
   "cell_type": "code",
   "execution_count": null,
   "metadata": {},
   "outputs": [],
   "source": [
    "detroit_classifier.machines[0].queue"
   ]
  },
  {
   "cell_type": "code",
   "execution_count": null,
   "metadata": {},
   "outputs": [],
   "source": [
    "detroit_classifier.empty_machines(10000)\n",
    "detroit_classifier.machines[0].queue"
   ]
  },
  {
   "cell_type": "code",
   "execution_count": null,
   "metadata": {},
   "outputs": [],
   "source": [
    "detroit_classifier.empty_machines(10000)\n",
    "detroit_classifier.machines[0].queue"
   ]
  },
  {
   "cell_type": "code",
   "execution_count": null,
   "metadata": {},
   "outputs": [],
   "source": [
    "detroit_classifier.empty_machines(10000)\n",
    "detroit_classifier.machines[0].queue"
   ]
  },
  {
   "cell_type": "code",
   "execution_count": null,
   "metadata": {},
   "outputs": [],
   "source": [
    "detroit_classifier.empty_machines(10000)\n",
    "detroit_classifier.machines[0].queue"
   ]
  },
  {
   "cell_type": "code",
   "execution_count": null,
   "metadata": {},
   "outputs": [],
   "source": [
    "detroit_classifier.empty_machines(10000)\n",
    "detroit_classifier.machines[0].queue"
   ]
  },
  {
   "cell_type": "markdown",
   "metadata": {},
   "source": [
    "## 3. Pre-Finish Inventory (PFI) Store <a class=\"anchor\" id=\"third-bullet\"></a>\n",
    "\n",
    "Jelly beans sorted by the classifier are stored in PFI drums. Drums are assigned a specific jelly bean size and color to avoid contamination (the PFI drums are reused once the drums are emptied into the Pre-Finish Operation). As mentioned earlier, 5 PFI drums (one for each size) must be empty before an RMI drum can be unloaded (thus starting the classification process).\n",
    "\n",
    "Rules:\n",
    "1. The classification process simultaneously splits the jelly beans according to the given ratios directly into the PFI drums\n",
    "2. Fundamentally any PFI drum can be filled with any size of jelly bean; however, once the assignment is made for a given work order, the PFI drum must only hand jelly beans of that size & color until the work order is completely processed\n",
    "3. PFI drums can only be filled to 95% capacity\n",
    "4. PFI drums are only available to be emptied into the Pre-Finish Operation once filling has stopped"
   ]
  },
  {
   "cell_type": "code",
   "execution_count": null,
   "metadata": {},
   "outputs": [],
   "source": [
    "detroit_pfi = storage_cell('pfi', num_drums=15, facility='DETROITMI')\n",
    "detroit_pfi.drums"
   ]
  },
  {
   "cell_type": "code",
   "execution_count": null,
   "metadata": {},
   "outputs": [],
   "source": [
    "detroit_pfi.empty_drums"
   ]
  },
  {
   "cell_type": "code",
   "execution_count": null,
   "metadata": {},
   "outputs": [],
   "source": [
    "detroit_pfi.drums[0].capacity"
   ]
  },
  {
   "cell_type": "code",
   "execution_count": null,
   "metadata": {},
   "outputs": [],
   "source": [
    "detroit_pfi.drums[0].contents"
   ]
  },
  {
   "cell_type": "code",
   "execution_count": null,
   "metadata": {},
   "outputs": [],
   "source": [
    "detroit_pfi.fill_drums(detroit_classifier.empty_machines(10000))"
   ]
  },
  {
   "cell_type": "code",
   "execution_count": null,
   "metadata": {},
   "outputs": [],
   "source": [
    "detroit_pfi.drums[0].contents"
   ]
  },
  {
   "cell_type": "code",
   "execution_count": null,
   "metadata": {},
   "outputs": [],
   "source": [
    "detroit_pfi.drums[0].jb_size"
   ]
  },
  {
   "cell_type": "code",
   "execution_count": null,
   "metadata": {},
   "outputs": [],
   "source": [
    "detroit_pfi.drums[0].jb_color"
   ]
  },
  {
   "cell_type": "code",
   "execution_count": null,
   "metadata": {},
   "outputs": [],
   "source": [
    "detroit_pfi.full_drums"
   ]
  },
  {
   "cell_type": "code",
   "execution_count": null,
   "metadata": {},
   "outputs": [],
   "source": [
    "detroit_pfi.empty_drums"
   ]
  },
  {
   "cell_type": "markdown",
   "metadata": {},
   "source": [
    "## 4. Pre-Finish Operation (PFO) <a class=\"anchor\" id=\"fourth-bullet\"></a>\n",
    "\n",
    "PFI drums are now emptied into a tank which applies flavoring to jelly beans of a given color and size (i.e., the tank can only hold 1 unique color-size-flavor combinations at any given time). The number of tanks, tank capacity, and processing rate are given for each facility as part of the problem statement.\n",
    "\n",
    "Rules:\n",
    "1. If there is more than 1 PFO tank, assume the rate for each tank is the same.\n",
    "2. When flavors are changed, there is a change-over duration of 5 minutes.\n",
    "3. There is no change-over duration between size changes."
   ]
  },
  {
   "cell_type": "code",
   "execution_count": null,
   "metadata": {},
   "outputs": [],
   "source": [
    "detroit_pfo = processing_cell('pfo', num_machines=2, facility='DETROITMI')"
   ]
  },
  {
   "cell_type": "code",
   "execution_count": null,
   "metadata": {},
   "outputs": [],
   "source": [
    "detroit_pfo"
   ]
  },
  {
   "cell_type": "code",
   "execution_count": null,
   "metadata": {},
   "outputs": [],
   "source": [
    "detroit_pfo.machines"
   ]
  },
  {
   "cell_type": "code",
   "execution_count": null,
   "metadata": {},
   "outputs": [],
   "source": [
    "detroit_pfo.load_machines(10000, jb_color='Coloring Agent1', jb_size='S1', jb_flavor='F1')"
   ]
  },
  {
   "cell_type": "code",
   "execution_count": null,
   "metadata": {},
   "outputs": [],
   "source": [
    "pfo0 = detroit_pfo.machines[0]"
   ]
  },
  {
   "cell_type": "code",
   "execution_count": null,
   "metadata": {},
   "outputs": [],
   "source": [
    "pfo0.available"
   ]
  },
  {
   "cell_type": "code",
   "execution_count": null,
   "metadata": {},
   "outputs": [],
   "source": [
    "pfo0.queue"
   ]
  },
  {
   "cell_type": "code",
   "execution_count": null,
   "metadata": {},
   "outputs": [],
   "source": [
    "pfo0.unload(10000)"
   ]
  },
  {
   "cell_type": "code",
   "execution_count": null,
   "metadata": {},
   "outputs": [],
   "source": [
    "pfo0.jb_color"
   ]
  },
  {
   "cell_type": "code",
   "execution_count": null,
   "metadata": {},
   "outputs": [],
   "source": [
    "pfo0.available"
   ]
  },
  {
   "cell_type": "markdown",
   "metadata": {},
   "source": [
    "## 5. Pack Inventory (PI) Store <a class=\"anchor\" id=\"fourth-bullet\"></a>\n",
    "\n",
    "Once the PFO is complete, flavored jelly beans are staged in PI drums. Each PI drum contains fully differentiated product: jelly beans grouped by color, size, and flavor. The number of drums and their capacities vary by site and are given within the problem statement.\n",
    "\n",
    "Rules:\n",
    "1. Release of jelly beans into the PFO follows a 'FIFO' policy by default (other policies are allowed but must be explicitly specified).\n",
    "2. Jelly beans flow continuously from the PFI store through the PFO into the PI store. It can be assumed that any PFO can feed any PI drum.\n",
    "3. To avoid overflow, PI drums are filled to 95%.\n",
    "4. PI drums can only be emptied into the Packaging operation once they have been disengaged from the PFO.\n",
    "5. The lowest PI Drum number is filled up first.\n",
    "6. Jelly bean colors, flavors, and sizes cannot be mixed in a given drum.\n",
    "7. Only one PI drum can be emptied into the Packaging operation at a time.\n",
    "8. The quantity of jelly beans released into the Packaging operation will be determined by the Work Orders."
   ]
  },
  {
   "cell_type": "code",
   "execution_count": null,
   "metadata": {},
   "outputs": [],
   "source": [
    "detroit_pi = storage_cell('pi', num_drums=8, facility='DETROITMI')"
   ]
  },
  {
   "cell_type": "code",
   "execution_count": null,
   "metadata": {},
   "outputs": [],
   "source": [
    "detroit_pi.drums"
   ]
  },
  {
   "cell_type": "code",
   "execution_count": null,
   "metadata": {},
   "outputs": [],
   "source": [
    "drum = detroit_pi.drums[1]\n",
    "drum.contents"
   ]
  },
  {
   "cell_type": "code",
   "execution_count": null,
   "metadata": {},
   "outputs": [],
   "source": [
    "drum.capacity"
   ]
  },
  {
   "cell_type": "code",
   "execution_count": null,
   "metadata": {},
   "outputs": [],
   "source": [
    "detroit_pi.full_drums"
   ]
  },
  {
   "cell_type": "code",
   "execution_count": null,
   "metadata": {},
   "outputs": [],
   "source": [
    "detroit_pi.empty_drums"
   ]
  },
  {
   "cell_type": "markdown",
   "metadata": {},
   "source": [
    "## 6. Packaging Operation <a class=\"anchor\" id=\"sixth-bullet\"></a>\n",
    "\n",
    "PI drums are emptied for packaging either a bag or a box; i.e., a drum can only be emptied to feed a bag or a box.\n",
    "\n",
    "Rules:\n",
    "1. The bagging and box lines cannot be run simultaneously.\n",
    "2. The box line takes precedence over the bagging line.\n",
    "3. Orders for boxes are fulfilled prior to orders for bags.\n",
    "4. All excess material is to be stored in bags."
   ]
  },
  {
   "cell_type": "code",
   "execution_count": null,
   "metadata": {},
   "outputs": [],
   "source": [
    "detroit_packaging = processing_cell(\n",
    "    'packaging',\n",
    "    facility='DETROITMI',\n",
    "    bagging_machines=1, \n",
    "    boxing_machines=1\n",
    ")"
   ]
  },
  {
   "cell_type": "code",
   "execution_count": null,
   "metadata": {},
   "outputs": [],
   "source": [
    "detroit_packaging.machines"
   ]
  },
  {
   "cell_type": "code",
   "execution_count": null,
   "metadata": {},
   "outputs": [],
   "source": [
    "detroit_packaging.load_machines(\n",
    "    10000, \n",
    "    jb_color='Coloring Agent1', \n",
    "    jb_size='S1',\n",
    "    packaging_type='box'\n",
    ")"
   ]
  },
  {
   "cell_type": "code",
   "execution_count": null,
   "metadata": {},
   "outputs": [],
   "source": [
    "detroit_packaging.empty_machines(2500)"
   ]
  },
  {
   "cell_type": "markdown",
   "metadata": {},
   "source": [
    "## Workorder Processing"
   ]
  },
  {
   "cell_type": "markdown",
   "metadata": {},
   "source": [
    "## Testing & Validation"
   ]
  },
  {
   "cell_type": "markdown",
   "metadata": {},
   "source": [
    "### Facility Initialization"
   ]
  }
 ],
 "metadata": {
  "kernelspec": {
   "display_name": "Python 3",
   "language": "python",
   "name": "python3"
  },
  "language_info": {
   "codemirror_mode": {
    "name": "ipython",
    "version": 3
   },
   "file_extension": ".py",
   "mimetype": "text/x-python",
   "name": "python",
   "nbconvert_exporter": "python",
   "pygments_lexer": "ipython3",
   "version": "3.7.3"
  }
 },
 "nbformat": 4,
 "nbformat_minor": 2
}
