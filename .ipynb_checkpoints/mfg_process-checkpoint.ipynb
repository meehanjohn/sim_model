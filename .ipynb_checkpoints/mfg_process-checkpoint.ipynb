{
 "cells": [
  {
   "cell_type": "markdown",
   "metadata": {},
   "source": [
    "# Simulating Process Flow\n",
    "\n",
    "# Stages of Manufacturing\n",
    "\n",
    "## 1. [Raw Material Inventory Store](#first-bullet)\n",
    "\n",
    "## 2. [Classifier](#second-bullet)\n",
    "\n",
    "## 3. [Pre-Finish Inventory Store](#third-bullet)\n",
    "\n",
    "## 4. [Pre-Finish Operation](#fourth-bullet)\n",
    "\n",
    "## 5. [Pack Inventory Store](#fifth-bullet)\n",
    "\n",
    "## 6. [Packaging](#sixth-bullet)"
   ]
  },
  {
   "cell_type": "markdown",
   "metadata": {},
   "source": [
    "![process_flow_diagram](process_flow_diagram.svg)"
   ]
  },
  {
   "cell_type": "markdown",
   "metadata": {},
   "source": [
    "# TODO:\n",
    "- **RMI Store**\n",
    "    - order_drums(): sort drums as dictated by work orders \n",
    "- **Classifier**\n",
    "    - check_pfi_bins(): ensure >5 empty bins available in PFI Store\n",
    "- **PFI Store**\n",
    "    - assign_drums(): ensure that a given drum maintains the same color & size through a given work order\n",
    "- **PFO Cell**\n",
    "    - \\_\\_repr\\_\\_(): code proper representation of PFO Cell\n",
    "    - ~~assign_tanks(): determine number of tanks for a given site and initialize them~~\n",
    "- **PI Cell**\n",
    "    ~~- assign_drums():~~ \n",
    "- **Packaging Cell**\n",
    "- **Work Orders**\n",
    "- ~~Finish defining packing cell:~~\n",
    "    - ~~Assigning machines & properties~~\n",
    "    - ~~Defining bagging & boxing machines~~\n",
    "    - ~~Determining process rates~~\n",
    "- ~~Replace `location` with `plant_id`; update CSVs accordingly~~\n",
    "- Define how Work Orders are loaded and processed\n",
    "- Code the overarching simulation process\n",
    "- Refactoring:\n",
    "    - Define super/subclass relationship for drums\n",
    "    - Define super/subclass relationship for workcells?\n",
    "- Thoroughly comment code cells\n",
    "- Add markdown to illustrate important concepts; break up code cells as necessary\n",
    "- Add visualizations\n",
    "- Flowchart Edit Notes:\n",
    "    - Work orders dictate RMI Store drum order as well as PI Store order.\n",
    "    - Number and label each work cell for reference in the document.\n"
   ]
  },
  {
   "cell_type": "code",
   "execution_count": 495,
   "metadata": {},
   "outputs": [],
   "source": [
    "import pandas as pd\n",
    "import numpy as np\n",
    "import matplotlib.pyplot as plt\n",
    "import scipy.stats as stats\n",
    "import simpy\n",
    "#from IPython.display import display, clear_output\n",
    "#import time"
   ]
  },
  {
   "cell_type": "code",
   "execution_count": 496,
   "metadata": {},
   "outputs": [],
   "source": [
    "class facility:\n",
    "    def __init__(self, plant_id):\n",
    "        self.plant_id = plant_id\n",
    "        print(\"Building {0} Facility Details...\".format(plant_id))\n",
    "        \n",
    "        equipment = pd.read_csv('equipment.csv')\n",
    "        equipment = equipment[equipment.facility == plant_id]\n",
    "        \n",
    "        # Get relevant equipment details for a given location\n",
    "        self.rmi_drums = equipment.rmi_drums.values[0]\n",
    "        self.pfi_drums = equipment.pfi_drums.values[0]\n",
    "        self.pfo_tanks = equipment.pfo_tanks.values[0]\n",
    "        self.pi_drums = equipment.pi_drums.values[0]\n",
    "        self.bagging_machines = equipment.bagging_machines.values[0]\n",
    "        self.boxing_machines = equipment.boxing_machines.values[0]\n",
    "        \n",
    "        # Initialize the RMI Store\n",
    "        self.rmi_cell = rmi_cell(plant_id, self.rmi_drums)\n",
    "        # Initialize the Classifier\n",
    "        self.classifier = classifier_cell(plant_id)\n",
    "        # Initialize the PFI Store\n",
    "        self.pfi_cell = pfi_cell(plant_id, self.pfi_drums)\n",
    "        # Initialize the PFO Tank\n",
    "        self.pfo_cell = pfo_cell(plant_id, self.pfo_tanks)\n",
    "        # Initialize the PI Store\n",
    "        self.pi_cell = pi_cell(plant_id, self.pi_drums)\n",
    "        # Initialize the Packaging Line\n",
    "        self.packaging_line = packaging_cell(plant_id, self.bagging_machines, self.boxing_machines)\n",
    "        \n",
    "    def __repr__(self):\n",
    "        return(\"{0}\".format(self.plant_id))"
   ]
  },
  {
   "cell_type": "markdown",
   "metadata": {},
   "source": [
    "## 1. Raw Material Inventory (RMI) Store <a class=\"anchor\" id=\"first-bullet\"></a>\n",
    "Several drums act as an inventory store for raw material. The number of drums and their capacities varies by site. Drums can only hold jelly beans with the same color (many-to-one relationship between drums and jelly beans of a given color). One RMI drum can be released at a time into the classifier.\n",
    "\n",
    "Rules:\n",
    "1. Order of release from RMI drums is dictated by workorders\n",
    "2. If there are two RMI drums with the same color at a given location, start emptying the drum with the lower equipment number first\n",
    "3. Releasing jelly beans from a drum is only allowed if there are at least 5 pre-finished inventory bins empty and available (the next step, classification, is a continuous process which fills pre-finished inventory bins)"
   ]
  },
  {
   "cell_type": "code",
   "execution_count": 497,
   "metadata": {},
   "outputs": [],
   "source": [
    "class rmi_cell:\n",
    "    def __init__(self, plant_id, rmi_drums):\n",
    "        # Initialize RMI Store using details from provided data\n",
    "        rmi_il = pd.read_csv('rmi_inventory_level.csv')\n",
    "        # Subset data on RMI Store Location\n",
    "        rmi_il = rmi_il[rmi_il['Location Name'] == plant_id]\n",
    "\n",
    "        \n",
    "        self.plant_id = plant_id\n",
    "        self.num_drums = rmi_drums\n",
    "        self.colors = rmi_il['Color'].dropna()\n",
    "        \n",
    "        # Generate a list of RMI Drum object,\n",
    "        # each with properties as defined by provided data\n",
    "        self.fill_store(rmi_il)\n",
    "        \n",
    "        # Rearrange the list of RMI Drums in accordance with incoming Workorders\n",
    "        #self.order_drums()\n",
    "        \n",
    "    def __repr__(self):\n",
    "        return(\n",
    "            \"{0} RMI Store \\n\"\n",
    "            \"Containing {1} Drums \\n\"\n",
    "            \"With {2} Unique Colors\"\n",
    "            .format(self.plant_id, self.num_drums, len(self.colors))\n",
    "        )        \n",
    "    \n",
    "    def fill_store(self, df):\n",
    "        print('Filling RMI Drums...')\n",
    "        self.drums = [\n",
    "            rmi_drum(\n",
    "            row['RMI Drum'],\n",
    "            row['Color'],\n",
    "            row['Qty in pounds'],\n",
    "            row['Capacity']\n",
    "            )\n",
    "            for index, row in df.iterrows()\n",
    "        ]\n",
    "    \n",
    "    def order_drums(self):\n",
    "    # Sort list of drums according to work order\n",
    "    # TODO\n",
    "        pass\n",
    "    \n",
    "    def empty_drums(self):\n",
    "        empties = [drum for drum in self.drums if np.isnan(drum.contents)]\n",
    "        return(empties)\n",
    "            \n",
    "            \n",
    "class rmi_drum:\n",
    "    def __init__(self, drum_id, color, contents, capacity):\n",
    "        self.id = drum_id\n",
    "        self.color = color\n",
    "        self.contents = contents\n",
    "        self.capacity = capacity\n",
    "        \n",
    "        self.fill(0)\n",
    "    \n",
    "    def __repr__(self):\n",
    "        return(self.id)\n",
    "    \n",
    "    def fill(self, addtl_qty):\n",
    "        global time\n",
    "        self.contents += addtl_qty\n",
    "        self.fill_time = time\n",
    "        \n",
    "    def empty(self):\n",
    "        global time\n",
    "        contents = self.contents\n",
    "        self.contents = 0\n",
    "        self.empty_time = time\n",
    "        return(self.color, contents)"
   ]
  },
  {
   "cell_type": "markdown",
   "metadata": {},
   "source": [
    "[Validation Shortcut](#rmi_validation)"
   ]
  },
  {
   "cell_type": "markdown",
   "metadata": {},
   "source": [
    "## 2. Classifier <a class=\"anchor\" id=\"second-bullet\"></a>\n",
    "\n",
    "The RMI drums contain jelly beans of the same color, but of varying size. RMI drums are emptied one by one into the classifier, which sorts jelly beans into 5 distinct sizes. Percentage split of each jelly bean size for a given color is provided with the problem statement."
   ]
  },
  {
   "cell_type": "code",
   "execution_count": 498,
   "metadata": {
    "scrolled": false
   },
   "outputs": [],
   "source": [
    "class classifier_cell:\n",
    "    def __init__(self, plant_id):\n",
    "        print('Initializing Classifier...')\n",
    "        rates = pd.read_csv('classifier_rate.csv')\n",
    "        \n",
    "        self.color = 'Undefined'\n",
    "        self.plant_id = plant_id\n",
    "        self.rate = int(rates[rates['Site'] == plant_id]['Processing_Rate'])\n",
    "        self.id = rates[rates['Site'] == plant_id]['Classifier'].values[0]\n",
    "        \n",
    "    def __repr__(self):\n",
    "        return(\n",
    "            \"{0} Classifier\\n\"\n",
    "            \"ID Number: {1}\\n\"\n",
    "            \"Processing Color: {2}\\n\"\n",
    "            \"At Rate: {3} lbs/hr\"\n",
    "            .format(self.plant_id,\n",
    "                    self.id,\n",
    "                    self.color,\n",
    "                    self.rate\n",
    "            )\n",
    "        )\n",
    "    \n",
    "    def check_pfi_bins(self):\n",
    "        # TODO\n",
    "        pass\n",
    "    \n",
    "    def classify(self, color, incoming):\n",
    "        # Return quantity of each size of jelly bean\n",
    "        if incoming == 0:\n",
    "            pass\n",
    "        else:\n",
    "            print(\"Classifying {0} lbs. of {1} Jelly Beans\".format(incoming, color))\n",
    "            split = pd.read_csv('classifier_split.csv')\n",
    "\n",
    "            self.color = color\n",
    "            self.split = split[split['Color'] == color]\n",
    "\n",
    "            self.check_pfi_bins()\n",
    "            split = self.split\n",
    "            split['qty_out'] = split.apply(lambda x: int(incoming*x.Percentage/100), axis=1)\n",
    "            process_time = self.rate/incoming\n",
    "            split[['Size','qty_out']]\n",
    "            return(split, process_time)"
   ]
  },
  {
   "cell_type": "markdown",
   "metadata": {},
   "source": [
    "[Validation Shortcut](#classifier_validation)"
   ]
  },
  {
   "cell_type": "markdown",
   "metadata": {},
   "source": [
    "## 3. Pre-Finish Inventory (PFI) Store <a class=\"anchor\" id=\"third-bullet\"></a>\n",
    "\n",
    "Jelly beans sorted by the classifier are stored in PFI drums. Drums are assigned a specific jelly bean size and color to avoid contamination (the PFI drums are reused once the drums are emptied into the Pre-Finish Operation). As mentioned earlier, 5 PFI drums (one for each size) must be empty before an RMI drum can be unloaded (thus starting the classification process).\n",
    "\n",
    "Rules:\n",
    "1. The classification process simultaneously splits the jelly beans according to the given ratios directly into the PFI drums\n",
    "2. Fundamentally any PFI drum can be filled with any size of jelly bean; however, once the assignment is made for a given work order, the PFI drum must only hand jelly beans of that size & color until the work order is completely processed\n",
    "3. PFI drums can only be filled to 95% capacity\n",
    "4. PFI drums are only available to be emptied into the Pre-Finish Operation once filling has stopped"
   ]
  },
  {
   "cell_type": "code",
   "execution_count": 499,
   "metadata": {},
   "outputs": [],
   "source": [
    "class pfi_cell:\n",
    "    def __init__(self, plant_id, num_drums):\n",
    "        pfi_drums = pd.read_csv('pfi_drum.csv', thousands=',')\n",
    "        pfi_drums = pfi_drums[pfi_drums['Site'] == plant_id]\n",
    "        \n",
    "        self.plant_id = plant_id\n",
    "        self.num_drums = num_drums\n",
    "        \n",
    "        self.fill_store(pfi_drums)\n",
    "        \n",
    "    def __repr__(self):\n",
    "        return(\n",
    "            \"{0} PFI Store \\n\"\n",
    "            \"Containing {1} Drums\"\n",
    "            .format(self.plant_id, self.num_drums)\n",
    "        )\n",
    "    \n",
    "    def fill_store(self, df):\n",
    "        print('Defining PFI Drums...')\n",
    "        self.drums = [\n",
    "            pfi_drum(\n",
    "            row['Drum Number'],\n",
    "            row['Capacity In pounds']\n",
    "            )\n",
    "            for index, row in df.iterrows()\n",
    "        ]\n",
    "       \n",
    "    def empty_drums(self):\n",
    "        empties = [drum for drum in self.drums if drum.contents == 0]\n",
    "        return(empties)\n",
    "    \n",
    "    def assign_drums(self, classifier_output):\n",
    "        empties = self.empty_drums()\n",
    "        \n",
    "        if len(empties)>=5:\n",
    "            excess = []\n",
    "            for i, drum in enumerate(empties[:5]):\n",
    "                jb_color = classifier_output.iloc[i].Color\n",
    "                jb_size = classifier_output.iloc[i].Size\n",
    "                amount = classifier_output.iloc[i].qty_out\n",
    "\n",
    "                drum.assign(jb_color, jb_size)\n",
    "                excess.append(drum.fill(amount))\n",
    "\n",
    "            classifier_output.qty_out = excess\n",
    "            print(excess)\n",
    "            \n",
    "            if not (classifier_output.qty_out == 0).all():\n",
    "                self.assign_drums(classifier_output)\n",
    "                \n",
    "        else:\n",
    "            self.pending = classifier_output\n",
    "        \n",
    "        \n",
    "class pfi_drum:\n",
    "    def __init__(self, drum_id, capacity):\n",
    "        self.id = drum_id\n",
    "        self.capacity = int(capacity)\n",
    "        self.contents = 0\n",
    "        self.fill_times = []\n",
    "        self.empty_times = []\n",
    "        \n",
    "    def __repr__(self):\n",
    "        return(self.id)\n",
    "    \n",
    "    def assign(self, jb_color, jb_size):\n",
    "        self.jb_color = jb_color\n",
    "        self.jb_size = jb_size\n",
    "    \n",
    "    def fill(self, amount):\n",
    "        global time        \n",
    "        fill_time = time\n",
    "        self.fill_times.append(fill_time)\n",
    "        \n",
    "        if (self.contents + amount) <= 0.95*self.capacity:\n",
    "            self.contents += amount\n",
    "            return(0)\n",
    "            \n",
    "        else:\n",
    "            self.contents = self.capacity\n",
    "            return(amount-self.capacity)\n",
    "                   \n",
    "    def empty(self):\n",
    "        global time\n",
    "        contents = self.contents\n",
    "        self.contents = 0\n",
    "        empty_time = time\n",
    "        self.empty_times.append(empty_time)\n",
    "        return(self.jb_color, self.jb_size, contents)"
   ]
  },
  {
   "cell_type": "markdown",
   "metadata": {},
   "source": [
    "[Validation Shortcut](#pfi_validation)"
   ]
  },
  {
   "cell_type": "markdown",
   "metadata": {},
   "source": [
    "## 4. Pre-Finish Operation (PFO) <a class=\"anchor\" id=\"fourth-bullet\"></a>\n",
    "\n",
    "PFI drums are now emptied into a tank which applies flavoring to jelly beans of a given color and size (i.e., the tank can only hold 1 unique color-size-flavor combinations at any given time). The number of tanks, tank capacity, and processing rate are given for each facility as part of the problem statement.\n",
    "\n",
    "Rules:\n",
    "1. If there is more than 1 PFO tank, assume the rate for each tank is the same.\n",
    "2. When flavors are changed, there is a change-over duration of 5 minutes.\n",
    "3. There is no change-over duration between size changes."
   ]
  },
  {
   "cell_type": "code",
   "execution_count": 500,
   "metadata": {},
   "outputs": [],
   "source": [
    "class pfo_cell:\n",
    "    def __init__(self, plant_id, num_tanks):\n",
    "        self.plant_id = plant_id\n",
    "        self.num_tanks = num_tanks\n",
    "        self.assign_tanks()\n",
    "        \n",
    "    def __repr__(self):\n",
    "        return(\n",
    "            \"{0} PFO Cell\\n\"\n",
    "            \"Containing {1} Tanks\\n\"\n",
    "            .format(self.plant_id, self.num_tanks)\n",
    "        )\n",
    "    \n",
    "    def assign_tanks(self):\n",
    "        self.tanks = [pfo_tank(self.plant_id, i) for i in range(self.num_tanks)]      \n",
    "\n",
    "class pfo_tank:\n",
    "    def __init__(self, plant_id, i):\n",
    "        print(\"Initializing PFO Tank...\")\n",
    "        self.plant_id = plant_id\n",
    "        self.color = \"Undefined\"\n",
    "        self.rate = np.nan\n",
    "        self.flavor = \"Undefined\"\n",
    "        self.i = i\n",
    "          \n",
    "    def __repr__(self):\n",
    "        return(\"PFO Tank{0}\".format(self.i+1))\n",
    "    \n",
    "    def apply(self, flavor, size, amount):\n",
    "        \n",
    "        def process(plant_id, flavor, size, amount):\n",
    "            # Locate historical rate data for a given location, flavor, and size\n",
    "            hist_rate = pd.read_csv('pfo_rate.csv') \n",
    "            hist_rate = hist_rate[\n",
    "                (hist_rate.Site == plant_id) \n",
    "                & (hist_rate.Flavor == flavor)\n",
    "                & (hist_rate.Size == size)\n",
    "            ]['Processing_Rate']\n",
    "\n",
    "            # Determine sample mean and standard deviation\n",
    "            s_mean = np.mean(hist_rate)\n",
    "            s_sd = np.std(hist_rate)\n",
    "\n",
    "            # Simulate processing rate using random variable\n",
    "            # Following sample normal distribution\n",
    "            rand_rate = s_sd*stats.norm.ppf(np.random.random())+s_mean\n",
    "            self.rate = rand_rate\n",
    "            self.process_time = amount/rand_rate\n",
    "        \n",
    "        self.load(flavor)\n",
    "        self.flavor = flavor\n",
    "        process(\n",
    "            self.plant_id, \n",
    "            flavor, \n",
    "            size,\n",
    "            amount\n",
    "        )\n",
    "        return(process_time)\n",
    "\n",
    "    def load(self, flavor):\n",
    "        if (self.flavor != flavor) & (self.flavor != 'Undefined'):\n",
    "            return(5)\n",
    "        else:\n",
    "            return(0)"
   ]
  },
  {
   "cell_type": "markdown",
   "metadata": {},
   "source": [
    "[Validation Shortcut](#pfo_validation)"
   ]
  },
  {
   "cell_type": "markdown",
   "metadata": {},
   "source": [
    "## 5. Pack Inventory (PI) Store <a class=\"anchor\" id=\"fourth-bullet\"></a>\n",
    "\n",
    "Once the PFO is complete, flavored jelly beans are staged in PI drums. Each PI drum contains fully differentiated product: jelly beans grouped by color, size, and flavor. The number of drums and their capacities vary by site and are given within the problem statement.\n",
    "\n",
    "Rules:\n",
    "1. Release of jelly beans into the PFO follows a 'FIFO' policy by default (other policies are allowed but must be explicitly specified).\n",
    "2. Jelly beans flow continuously from the PFI store through the PFO into the PI store. It can be assumed that any PFO can feed any PI drum.\n",
    "3. To avoid overflow, PI drums are filled to 95%.\n",
    "4. PI drums can only be emptied into the Packaging operation once they have been disengaged from the PFO.\n",
    "5. The lowest PI Drum number is filled up first.\n",
    "6. Jelly bean colors, flavors, and sizes cannot be mixed in a given drum.\n",
    "7. Only one PI drum can be emptied into the Packaging operation at a time.\n",
    "8. The quantity of jelly beans released into the Packaging operation will be determined by the Work Orders."
   ]
  },
  {
   "cell_type": "code",
   "execution_count": 501,
   "metadata": {},
   "outputs": [],
   "source": [
    "class pi_cell:\n",
    "    def __init__(self, plant_id, num_drums):\n",
    "        \n",
    "        pi_drums = pd.read_csv('pi_drum.csv', thousands=',')\n",
    "        pi_drums = pi_drums[pi_drums['Site'] == plant_id]\n",
    "        \n",
    "        self.plant_id = plant_id\n",
    "        \n",
    "        self.fill_store(pi_drums)\n",
    "        \n",
    "    def __repr__(self):\n",
    "        return(\"{0} PI Store\".format(self.plant_id))\n",
    "        \n",
    "    def fill_store(self, df):\n",
    "        print('Defining PI Drums...')\n",
    "        self.drums = [\n",
    "            pi_drum(\n",
    "            row['Drum Number'],\n",
    "            row['Capacity']\n",
    "            )\n",
    "            for index, row in df.iterrows()\n",
    "        ]\n",
    "        \n",
    "    def assign_drums(self):\n",
    "        # TODO\n",
    "        pass\n",
    "        \n",
    "class pi_drum:\n",
    "    def __init__(self, drum_id, capacity):\n",
    "        self.id = drum_id\n",
    "        self.capacity = int(capacity)\n",
    "        self.contents = 0\n",
    "        self.jb_color = 'Undefined'\n",
    "        self.jb_size = 'Undefined'\n",
    "        self.jb_flavor = 'Undefined'\n",
    "        self.fill_times = []\n",
    "        self.empty_times = []\n",
    "        \n",
    "    def __repr__(self):\n",
    "        return(self.id)\n",
    "    \n",
    "    def fill(self, jb_color, jb_size, jb_flavor, amount):\n",
    "        if (self.contents + amount) <= 0.95*self.capacity:\n",
    "            global time\n",
    "            self.contents += amount\n",
    "            self.jb_color = jb_color\n",
    "            self.jb_size = jb_size\n",
    "            self.jb_flavor = jb_flavor\n",
    "            fill_time = time\n",
    "            self.fill_times.append(fill_time)\n",
    "            \n",
    "        elif (self.contents + amount) > 0.95*self.capacity:\n",
    "            raise ValueError('Amount specified exceeds drum capacity')\n",
    "        else:\n",
    "            # Currently unused; add condition for flavor/size/color mismatch\n",
    "            raise ValueError('Jelly Beans will be contaminated!')\n",
    "\n",
    "    def empty(self):\n",
    "        global time\n",
    "        contents = self.contents\n",
    "        self.contents = 0\n",
    "        empty_time = time\n",
    "        self.empty_times.append(empty_time)\n",
    "        return(contents)\n",
    "        "
   ]
  },
  {
   "cell_type": "markdown",
   "metadata": {},
   "source": [
    "[Validation Shortcut](#pi_validation)"
   ]
  },
  {
   "cell_type": "markdown",
   "metadata": {},
   "source": [
    "## 6. Packaging Operation <a class=\"anchor\" id=\"sixth-bullet\"></a>\n",
    "\n",
    "PI drums are emptied for packaging either a bag or a box; i.e., a drum can only be emptied to feed a bag or a box.\n",
    "\n",
    "Rules:\n",
    "1. The bagging and box lines cannot be run simultaneously.\n",
    "2. The box line takes precedence over the bagging line.\n",
    "3. Orders for boxes are fulfilled prior to orders for bags.\n",
    "4. All excess material is to be stored in bags."
   ]
  },
  {
   "cell_type": "code",
   "execution_count": 502,
   "metadata": {},
   "outputs": [],
   "source": [
    "class packaging_cell:\n",
    "    def __init__(self, plant_id, num_bagging, num_boxing):\n",
    "        self.plant_id = plant_id\n",
    "        self.num_bagging = num_bagging\n",
    "        self.num_boxing = num_boxing\n",
    "        self.assign_machines()\n",
    "        \n",
    "    def __repr__(self):\n",
    "        return(\n",
    "            \"{0} Packing Cell\\n\"\n",
    "            \"Bagging Machines: {1}\\n\"\n",
    "            \"Boxing Machines: {2}\\n\"\n",
    "            .format(self.plant_id, self.num_bagging, self.num_boxing)\n",
    "        )\n",
    "    \n",
    "    def assign_machines(self):\n",
    "        print(\"Building Packaging Line...\")\n",
    "        self.bagging_machines = [bagging_machine(self.plant_id, i) for i in range(self.num_bagging)]     \n",
    "        self.boxing_machines = boxing_machine(self.plant_id)\n",
    "    \n",
    "class packing_machine:\n",
    "    def __init__(self, plant_id):\n",
    "        self.plant_id = plant_id\n",
    "        \n",
    "    def __repr__(self):\n",
    "        return(\"{0} unassigned packing machine\".format(plant_id))\n",
    "    \n",
    "    def process(self, size, amount, pack_type):\n",
    "        # Locate historical rate data for a given location, size, and packaging type\n",
    "        hist_rate = pd.read_csv('packaging.csv')\n",
    "        hist_rate = hist_rate[\n",
    "            (hist_rate.Site == self.plant_id)\n",
    "            & (hist_rate.Size == size)\n",
    "            & (hist_rate.Packaging_Type == pack_type)\n",
    "        ]['Processing_Rate']\n",
    "        \n",
    "        # Determine the sample mean and standard deviation\n",
    "        s_mean = np.mean(hist_rate)\n",
    "        s_sd = np.std(hist_rate)\n",
    "        \n",
    "        # Simulate processing rate using random variable\n",
    "        # Following sample normal distribution\n",
    "        rand_rate = s_sd*stats.norm.ppf(np.random.random())+s_mean\n",
    "        self.rate = rand_rate\n",
    "        self.process_time = amount/rand_rate\n",
    "        return(self.process_time)\n",
    "\n",
    "class bagging_machine(packing_machine):\n",
    "    def __init__(self, plant_id, i):\n",
    "        super().__init__(plant_id)\n",
    "        self.i = i\n",
    "        \n",
    "    def __repr__(self):\n",
    "        return(\"{0} Bagging Machine{1}\".format(self.plant_id,self.i+1))\n",
    "    \n",
    "class boxing_machine(packing_machine):\n",
    "    def __init__(self, plant_id):\n",
    "        super().__init__(plant_id)\n",
    "        \n",
    "    def __repr__(self):\n",
    "        return(\"{0} Bagging Machine\".format(self.plant_id))"
   ]
  },
  {
   "cell_type": "markdown",
   "metadata": {},
   "source": [
    "[Validation Shortcut](#packaging_validation)"
   ]
  },
  {
   "cell_type": "markdown",
   "metadata": {},
   "source": [
    "## Workorder Processing"
   ]
  },
  {
   "cell_type": "code",
   "execution_count": 503,
   "metadata": {},
   "outputs": [
    {
     "data": {
      "text/plain": [
       "\"\\nclass workorder_bank:\\n    def __init__(self, fill_list=[], example=True):\\n        self.fill_list = fill_list\\n        \\n        if example:\\n            self.workorders = pd.read_csv('workorder_example.csv')\\n        else:\\n            self.workorders = pd.read_csv('workorders.csv')\\n            \\n        for index, row in workorders.iterrows():\\n            plant_id = workorders['Plant Id']\\n            workorder_id = workorders['Internal Work Order Id']\\n            color = workorders['Color']\\n            size = workorders['Size']\\n            flavor = workorders['Flavor']\\n            pack = workorders['Packaging Type']\\n            qty = workorders['Qty']\\n            \\n            self.simulate(\\n                plant_id,\\n                workorder_id,\\n                color,\\n                size,\\n                flavor,\\n                pack,\\n                qty\\n            )\\n            \\n    def build_bank(self):\\n        # TODO\\n        pass\\n        self.id = workorders\\n   \\n    def simulate(\\n        self,\\n        plant_id,\\n        workorder_id,\\n        color,\\n        size,\\n        flavor,\\n        pack,\\n        qty\\n    ):\\n        facility = facility(plant_id)\\n        \\n        # TODO - Add functionality to adjust drum contents in shuffle stage\\n        for drum in facility.rmi_cell.drums:\\n            if drum_id in self.fill_list:\\n                drum.fill(amount)\\n        \\n        # TODO - Determine initial basic sorting method for ordering drums\\n        facility.rmi_cell.order_drums()\\n        \\n        for drum in facility.rmi_cell.drums:\\n            # TODO - Check downstream for empty bins\\n            classifer_cell.check_pfi_bins()\\n            \\n            # TODO - Add color to return statement in rmi_drum object\\n            color, amount = drum.empty()\\n            \\n            classified_beans = classifier_cell.classify(color, amount)\\n            \\n            pfi_cell.assign_drums()\\n            \\n            for index, row in classified_beans.iterrows():\\n                pfi_cell.pfi_drum.fill(classified_beans['qty_out'])\\n\""
      ]
     },
     "execution_count": 503,
     "metadata": {},
     "output_type": "execute_result"
    }
   ],
   "source": [
    "'''\n",
    "class workorder_bank:\n",
    "    def __init__(self, fill_list=[], example=True):\n",
    "        self.fill_list = fill_list\n",
    "        \n",
    "        if example:\n",
    "            self.workorders = pd.read_csv('workorder_example.csv')\n",
    "        else:\n",
    "            self.workorders = pd.read_csv('workorders.csv')\n",
    "            \n",
    "        for index, row in workorders.iterrows():\n",
    "            plant_id = workorders['Plant Id']\n",
    "            workorder_id = workorders['Internal Work Order Id']\n",
    "            color = workorders['Color']\n",
    "            size = workorders['Size']\n",
    "            flavor = workorders['Flavor']\n",
    "            pack = workorders['Packaging Type']\n",
    "            qty = workorders['Qty']\n",
    "            \n",
    "            self.simulate(\n",
    "                plant_id,\n",
    "                workorder_id,\n",
    "                color,\n",
    "                size,\n",
    "                flavor,\n",
    "                pack,\n",
    "                qty\n",
    "            )\n",
    "            \n",
    "    def build_bank(self):\n",
    "        # TODO\n",
    "        pass\n",
    "        self.id = workorders\n",
    "   \n",
    "    def simulate(\n",
    "        self,\n",
    "        plant_id,\n",
    "        workorder_id,\n",
    "        color,\n",
    "        size,\n",
    "        flavor,\n",
    "        pack,\n",
    "        qty\n",
    "    ):\n",
    "        facility = facility(plant_id)\n",
    "        \n",
    "        # TODO - Add functionality to adjust drum contents in shuffle stage\n",
    "        for drum in facility.rmi_cell.drums:\n",
    "            if drum_id in self.fill_list:\n",
    "                drum.fill(amount)\n",
    "        \n",
    "        # TODO - Determine initial basic sorting method for ordering drums\n",
    "        facility.rmi_cell.order_drums()\n",
    "        \n",
    "        for drum in facility.rmi_cell.drums:\n",
    "            # TODO - Check downstream for empty bins\n",
    "            classifer_cell.check_pfi_bins()\n",
    "            \n",
    "            # TODO - Add color to return statement in rmi_drum object\n",
    "            color, amount = drum.empty()\n",
    "            \n",
    "            classified_beans = classifier_cell.classify(color, amount)\n",
    "            \n",
    "            pfi_cell.assign_drums()\n",
    "            \n",
    "            for index, row in classified_beans.iterrows():\n",
    "                pfi_cell.pfi_drum.fill(classified_beans['qty_out'])\n",
    "'''"
   ]
  },
  {
   "cell_type": "markdown",
   "metadata": {},
   "source": [
    "## Testing & Validation"
   ]
  },
  {
   "cell_type": "markdown",
   "metadata": {},
   "source": [
    "### Facility Initialization"
   ]
  },
  {
   "cell_type": "markdown",
   "metadata": {},
   "source": [
    "### [RMI Store](#first-bullet) <a class=\"anchor\" id=\"rmi_validation\"></a>\n",
    "- Representation of store\n",
    "- List empty drums\n",
    "- Representation of drum\n",
    "- Checking properties of drum"
   ]
  },
  {
   "cell_type": "code",
   "execution_count": 505,
   "metadata": {},
   "outputs": [],
   "source": [
    "time = 0"
   ]
  },
  {
   "cell_type": "code",
   "execution_count": 506,
   "metadata": {},
   "outputs": [
    {
     "name": "stdout",
     "output_type": "stream",
     "text": [
      "Building DETROITMI Facility Details...\n",
      "Filling RMI Drums...\n",
      "Initializing Classifier...\n",
      "Defining PFI Drums...\n",
      "Initializing PFO Tank...\n",
      "Initializing PFO Tank...\n",
      "Defining PI Drums...\n",
      "Building Packaging Line...\n"
     ]
    }
   ],
   "source": [
    "detroit = facility(\"DETROITMI\")"
   ]
  },
  {
   "cell_type": "code",
   "execution_count": 507,
   "metadata": {},
   "outputs": [
    {
     "data": {
      "text/plain": [
       "[PFO Tank1, PFO Tank2]"
      ]
     },
     "execution_count": 507,
     "metadata": {},
     "output_type": "execute_result"
    }
   ],
   "source": [
    "detroit.pfo_cell.tanks"
   ]
  },
  {
   "cell_type": "code",
   "execution_count": 490,
   "metadata": {},
   "outputs": [],
   "source": [
    "pfi_drum = detroit.pfi_cell.drums.pop()"
   ]
  },
  {
   "cell_type": "code",
   "execution_count": 494,
   "metadata": {},
   "outputs": [
    {
     "ename": "TypeError",
     "evalue": "empty() missing 1 required positional argument: 'self'",
     "output_type": "error",
     "traceback": [
      "\u001b[1;31m---------------------------------------------------------------------------\u001b[0m",
      "\u001b[1;31mTypeError\u001b[0m                                 Traceback (most recent call last)",
      "\u001b[1;32m<ipython-input-494-1e424ad8f2e0>\u001b[0m in \u001b[0;36m<module>\u001b[1;34m\u001b[0m\n\u001b[1;32m----> 1\u001b[1;33m \u001b[0mpfi_drum\u001b[0m\u001b[1;33m.\u001b[0m\u001b[0mempty\u001b[0m\u001b[1;33m(\u001b[0m\u001b[1;33m)\u001b[0m\u001b[1;33m\u001b[0m\u001b[1;33m\u001b[0m\u001b[0m\n\u001b[0m",
      "\u001b[1;31mTypeError\u001b[0m: empty() missing 1 required positional argument: 'self'"
     ]
    }
   ],
   "source": [
    "pfi_drum.empty()"
   ]
  },
  {
   "cell_type": "code",
   "execution_count": 508,
   "metadata": {},
   "outputs": [
    {
     "name": "stdout",
     "output_type": "stream",
     "text": [
      "RMI DRUM1\n",
      "0\n",
      "Classifying 300000.0 lbs. of Coloring Agent21 Jelly Beans\n",
      "Classified: \n",
      " [60000, 78000, 60000, 48000, 54000]\n",
      "0.0114\n",
      "[50000, 68000, 50000, 38000, 44000]\n",
      "[40000, 58000, 40000, 28000, 34000]\n",
      "[30000, 48000, 30000, 18000, 24000]\n",
      "Pending: \n",
      " [30000, 48000, 30000, 18000, 24000]\n",
      "RMI DRUM2\n",
      "0.0114\n",
      "Classifying 300000.0 lbs. of Coloring Agent19 Jelly Beans\n",
      "Classified: \n",
      " [57000, 42000, 54000, 54000, 93000]\n",
      "0.0228\n",
      "Pending: \n",
      " [57000, 42000, 54000, 54000, 93000]\n",
      "RMI DRUM3\n",
      "0.0228\n",
      "Classifying 300000.0 lbs. of Coloring Agent16 Jelly Beans\n",
      "Classified: \n",
      " [75000, 78000, 36000, 60000, 51000]\n",
      "0.0342\n",
      "Pending: \n",
      " [75000, 78000, 36000, 60000, 51000]\n",
      "RMI DRUM4\n",
      "0.0342\n",
      "Classifying 300000.0 lbs. of Coloring Agent28 Jelly Beans\n",
      "Classified: \n",
      " [51000, 75000, 72000, 42000, 60000]\n",
      "0.0456\n",
      "Pending: \n",
      " [51000, 75000, 72000, 42000, 60000]\n",
      "RMI DRUM5\n",
      "0.0456\n",
      "Classifying 300000.0 lbs. of Coloring Agent25 Jelly Beans\n",
      "Classified: \n",
      " [54000, 54000, 39000, 75000, 78000]\n",
      "0.057\n",
      "Pending: \n",
      " [54000, 54000, 39000, 75000, 78000]\n",
      "RMI DRUM6\n",
      "0.057\n",
      "Classifying 300000.0 lbs. of Coloring Agent12 Jelly Beans\n",
      "Classified: \n",
      " [99000, 51000, 36000, 60000, 54000]\n",
      "0.0684\n",
      "Pending: \n",
      " [99000, 51000, 36000, 60000, 54000]\n",
      "RMI DRUM7\n",
      "0.0684\n",
      "Classifying 300000.0 lbs. of Coloring Agent36 Jelly Beans\n",
      "Classified: \n",
      " [51000, 60000, 51000, 48000, 90000]\n",
      "0.07980000000000001\n",
      "Pending: \n",
      " [51000, 60000, 51000, 48000, 90000]\n",
      "RMI DRUM8\n",
      "0.07980000000000001\n",
      "Classifying 300000.0 lbs. of Coloring Agent18 Jelly Beans\n",
      "Classified: \n",
      " [78000, 42000, 69000, 51000, 60000]\n",
      "0.0912\n",
      "Pending: \n",
      " [78000, 42000, 69000, 51000, 60000]\n",
      "RMI DRUM9\n",
      "0.0912\n",
      "Classifying 300000.0 lbs. of Coloring Agent3 Jelly Beans\n",
      "Classified: \n",
      " [129000, 48000, 30000, 45000, 48000]\n",
      "0.1026\n",
      "Pending: \n",
      " [129000, 48000, 30000, 45000, 48000]\n",
      "RMI DRUM10\n",
      "0.1026\n",
      "Classifying 300000.0 lbs. of Coloring Agent20 Jelly Beans\n",
      "Classified: \n",
      " [66000, 81000, 30000, 54000, 69000]\n",
      "0.11399999999999999\n",
      "Pending: \n",
      " [66000, 81000, 30000, 54000, 69000]\n",
      "RMI DRUM11\n",
      "0.11399999999999999\n",
      "Classifying 300000.0 lbs. of Coloring Agent37 Jelly Beans\n",
      "Classified: \n",
      " [72000, 48000, 63000, 69000, 48000]\n",
      "0.12539999999999998\n",
      "Pending: \n",
      " [72000, 48000, 63000, 69000, 48000]\n",
      "RMI DRUM12\n",
      "0.12539999999999998\n",
      "Classifying 300000.0 lbs. of Coloring Agent39 Jelly Beans\n",
      "Classified: \n",
      " [36000, 75000, 57000, 51000, 81000]\n",
      "0.13679999999999998\n",
      "Pending: \n",
      " [36000, 75000, 57000, 51000, 81000]\n",
      "RMI DRUM13\n",
      "0.13679999999999998\n",
      "Classifying 300000.0 lbs. of Coloring Agent38 Jelly Beans\n",
      "Classified: \n",
      " [54000, 105000, 63000, 30000, 48000]\n",
      "0.14819999999999997\n",
      "Pending: \n",
      " [54000, 105000, 63000, 30000, 48000]\n",
      "RMI DRUM14\n",
      "0.14819999999999997\n",
      "Classifying 300000.0 lbs. of Coloring Agent9 Jelly Beans\n",
      "Classified: \n",
      " [39000, 45000, 96000, 30000, 90000]\n",
      "0.15959999999999996\n",
      "Pending: \n",
      " [39000, 45000, 96000, 30000, 90000]\n",
      "RMI DRUM15\n",
      "0.15959999999999996\n",
      "Classifying 300000.0 lbs. of Coloring Agent13 Jelly Beans\n",
      "Classified: \n",
      " [72000, 96000, 48000, 33000, 51000]\n",
      "0.17099999999999996\n",
      "Pending: \n",
      " [72000, 96000, 48000, 33000, 51000]\n",
      "RMI DRUM16\n",
      "0.17099999999999996\n",
      "Classifying 300000.0 lbs. of Coloring Agent32 Jelly Beans\n",
      "Classified: \n",
      " [93000, 66000, 78000, 30000, 33000]\n",
      "0.18239999999999995\n",
      "Pending: \n",
      " [93000, 66000, 78000, 30000, 33000]\n"
     ]
    },
    {
     "ename": "IndexError",
     "evalue": "pop from empty list",
     "output_type": "error",
     "traceback": [
      "\u001b[1;31m---------------------------------------------------------------------------\u001b[0m",
      "\u001b[1;31mIndexError\u001b[0m                                Traceback (most recent call last)",
      "\u001b[1;32m<ipython-input-508-5a91bca93144>\u001b[0m in \u001b[0;36m<module>\u001b[1;34m\u001b[0m\n\u001b[0;32m     12\u001b[0m     \u001b[1;32mif\u001b[0m \u001b[0mlen\u001b[0m\u001b[1;33m(\u001b[0m\u001b[0mdetroit\u001b[0m\u001b[1;33m.\u001b[0m\u001b[0mpfi_cell\u001b[0m\u001b[1;33m.\u001b[0m\u001b[0mempty_drums\u001b[0m\u001b[1;33m(\u001b[0m\u001b[1;33m)\u001b[0m\u001b[1;33m)\u001b[0m \u001b[1;33m<\u001b[0m \u001b[1;36m5\u001b[0m\u001b[1;33m:\u001b[0m\u001b[1;33m\u001b[0m\u001b[1;33m\u001b[0m\u001b[0m\n\u001b[0;32m     13\u001b[0m         \u001b[0mpfi_drums\u001b[0m \u001b[1;33m=\u001b[0m \u001b[0mdetroit\u001b[0m\u001b[1;33m.\u001b[0m\u001b[0mpfi_cell\u001b[0m\u001b[1;33m.\u001b[0m\u001b[0mdrums\u001b[0m\u001b[1;33m\u001b[0m\u001b[1;33m\u001b[0m\u001b[0m\n\u001b[1;32m---> 14\u001b[1;33m         \u001b[0mpfi_drum\u001b[0m \u001b[1;33m=\u001b[0m \u001b[0mpfi_drums\u001b[0m\u001b[1;33m.\u001b[0m\u001b[0mpop\u001b[0m\u001b[1;33m(\u001b[0m\u001b[1;33m)\u001b[0m\u001b[1;33m\u001b[0m\u001b[1;33m\u001b[0m\u001b[0m\n\u001b[0m\u001b[0;32m     15\u001b[0m         \u001b[0mjb_color\u001b[0m \u001b[1;33m=\u001b[0m \u001b[0mpfi_drum\u001b[0m\u001b[1;33m.\u001b[0m\u001b[0mjb_color\u001b[0m\u001b[1;33m\u001b[0m\u001b[1;33m\u001b[0m\u001b[0m\n\u001b[0;32m     16\u001b[0m         \u001b[0mjb_size\u001b[0m \u001b[1;33m=\u001b[0m \u001b[0mpfi_drum\u001b[0m\u001b[1;33m.\u001b[0m\u001b[0mjb_size\u001b[0m\u001b[1;33m\u001b[0m\u001b[1;33m\u001b[0m\u001b[0m\n",
      "\u001b[1;31mIndexError\u001b[0m: pop from empty list"
     ]
    }
   ],
   "source": [
    "for drum in detroit.rmi_cell.drums:\n",
    "    print(drum)\n",
    "    inc_color, inc_amount = drum.empty()\n",
    "    print(time)\n",
    "    out_amount, out_time = detroit.classifier.classify(inc_color, inc_amount)\n",
    "    print(\"Classified: \\n\",list(out_amount.qty_out.values))\n",
    "    time += out_time\n",
    "    print(time)\n",
    "    detroit.pfi_cell.assign_drums(out_amount)\n",
    "    print(\"Pending: \\n\",list(detroit.pfi_cell.pending.qty_out.values))\n",
    "\n",
    "    if len(detroit.pfi_cell.empty_drums()) < 5:\n",
    "        pfi_drums = detroit.pfi_cell.drums\n",
    "        pfi_drum = pfi_drums.pop()\n",
    "        jb_color = pfi_drum.jb_color\n",
    "        jb_size = pfi_drum.jb_size\n",
    "        \n"
   ]
  },
  {
   "cell_type": "code",
   "execution_count": null,
   "metadata": {},
   "outputs": [],
   "source": [
    "detroit.rmi_store"
   ]
  },
  {
   "cell_type": "code",
   "execution_count": null,
   "metadata": {},
   "outputs": [],
   "source": [
    "detroit.rmi_store.empty_drums()"
   ]
  },
  {
   "cell_type": "code",
   "execution_count": null,
   "metadata": {},
   "outputs": [],
   "source": [
    "detroit.rmi_store.drums[0]"
   ]
  },
  {
   "cell_type": "code",
   "execution_count": null,
   "metadata": {},
   "outputs": [],
   "source": [
    "detroit.rmi_store.drums[0].contents"
   ]
  },
  {
   "cell_type": "code",
   "execution_count": null,
   "metadata": {},
   "outputs": [],
   "source": [
    "detroit.rmi_store.drums[0].fill(0)"
   ]
  },
  {
   "cell_type": "code",
   "execution_count": null,
   "metadata": {},
   "outputs": [],
   "source": [
    "detroit.rmi_store.drums[0].fill_time"
   ]
  },
  {
   "cell_type": "code",
   "execution_count": null,
   "metadata": {},
   "outputs": [],
   "source": [
    "detroit.rmi_store.drums[0].empty()"
   ]
  },
  {
   "cell_type": "code",
   "execution_count": null,
   "metadata": {},
   "outputs": [],
   "source": [
    "detroit.rmi_store.drums[0].empty_time"
   ]
  },
  {
   "cell_type": "code",
   "execution_count": null,
   "metadata": {},
   "outputs": [],
   "source": [
    "print(columbus.rmi_store)\n",
    "print(columbus.rmi_store.empty_drums())\n",
    "print(columbus.rmi_store.drums[1])\n",
    "print(columbus.rmi_store.drums[1].capacity)"
   ]
  },
  {
   "cell_type": "markdown",
   "metadata": {},
   "source": [
    "### [Classifier](#second-bullet) <a class=\"anchor\" id=\"classifier_validation\"></a>\n",
    "- Representation of classifier\n",
    "- Input jelly bean color and amount\n",
    "- Output processing time\n",
    "- Output jelly bean size split"
   ]
  },
  {
   "cell_type": "code",
   "execution_count": null,
   "metadata": {},
   "outputs": [],
   "source": [
    "detroit.classifier"
   ]
  },
  {
   "cell_type": "code",
   "execution_count": null,
   "metadata": {},
   "outputs": [],
   "source": [
    "proc = env.process(detroit.classifier.classify('Coloring Agent1', 10000))\n",
    "env.run()"
   ]
  },
  {
   "cell_type": "code",
   "execution_count": null,
   "metadata": {},
   "outputs": [],
   "source": [
    "detroit.rmi_store.drums[0].empty_time"
   ]
  },
  {
   "cell_type": "code",
   "execution_count": null,
   "metadata": {},
   "outputs": [],
   "source": [
    "env = simpy.Environment()\n",
    "detroit = facility('DETROITMI', env)"
   ]
  },
  {
   "cell_type": "code",
   "execution_count": null,
   "metadata": {},
   "outputs": [],
   "source": [
    "detroit.rmi_cell"
   ]
  },
  {
   "cell_type": "code",
   "execution_count": null,
   "metadata": {},
   "outputs": [],
   "source": [
    "for drum in detroit.rmi_cell.drums:\n",
    "    proc = env.process(detroit.classifier.classify('Coloring Agent1', drum.empty()))\n",
    "    env.run()\n",
    "    proc.value\n",
    "    "
   ]
  },
  {
   "cell_type": "code",
   "execution_count": null,
   "metadata": {},
   "outputs": [],
   "source": [
    "proc.value"
   ]
  },
  {
   "cell_type": "markdown",
   "metadata": {},
   "source": [
    "### [PFI Store](#third-bullet) <a class=\"anchor\" id=\"pfi_validation\"></a>\n",
    "\n",
    "- Representation\n",
    "- List empty drums\n",
    "- Check drum properties\n",
    "    - Color assignment\n",
    "    - Size assignment\n",
    "    - Capacity\n",
    "    - Filling limit"
   ]
  },
  {
   "cell_type": "code",
   "execution_count": null,
   "metadata": {},
   "outputs": [],
   "source": [
    "detroit.pfi_store"
   ]
  },
  {
   "cell_type": "code",
   "execution_count": null,
   "metadata": {},
   "outputs": [],
   "source": [
    "print(detroit.pfi_store.drums)\n",
    "print(detroit.pfi_store.drums[1].capacity)"
   ]
  },
  {
   "cell_type": "code",
   "execution_count": null,
   "metadata": {},
   "outputs": [],
   "source": [
    "detroit.pfi_store.drums[0].assign(jb_color ='Coloring Agent1', jb_size ='S1')\n",
    "detroit.pfi_store.drums[0].jb_color"
   ]
  },
  {
   "cell_type": "code",
   "execution_count": null,
   "metadata": {},
   "outputs": [],
   "source": [
    "detroit.pfi_store.drums[0].capacity"
   ]
  },
  {
   "cell_type": "code",
   "execution_count": null,
   "metadata": {},
   "outputs": [],
   "source": [
    "detroit.pfi_store.drums[0].fill(9000)\n",
    "detroit.pfi_store.drums[0].contents"
   ]
  },
  {
   "cell_type": "code",
   "execution_count": null,
   "metadata": {},
   "outputs": [],
   "source": [
    "detroit.pfi_store.drums[0].fill(501)\n",
    "detroit.pfi_store.drums[0].contents"
   ]
  },
  {
   "cell_type": "code",
   "execution_count": null,
   "metadata": {},
   "outputs": [],
   "source": [
    "detroit.pfi_store.drums[0].empty()\n",
    "detroit.pfi_store.drums[0].contents"
   ]
  },
  {
   "cell_type": "code",
   "execution_count": null,
   "metadata": {},
   "outputs": [],
   "source": [
    "detroit.pfi_store.drums[0].fill_times"
   ]
  },
  {
   "cell_type": "code",
   "execution_count": null,
   "metadata": {},
   "outputs": [],
   "source": [
    "detroit.pfi_store.drums[0].empty_times"
   ]
  },
  {
   "cell_type": "markdown",
   "metadata": {},
   "source": [
    "### [PFO](#fourth-bullet) <a class=\"anchor\" id=\"pfo_validation\"></a>\n",
    "\n",
    "- Representation\n",
    "- Time accrual\n",
    "- Changeover penalty"
   ]
  },
  {
   "cell_type": "code",
   "execution_count": null,
   "metadata": {},
   "outputs": [],
   "source": [
    "detroit = facility('DETROITMI', env)"
   ]
  },
  {
   "cell_type": "code",
   "execution_count": null,
   "metadata": {},
   "outputs": [],
   "source": [
    "detroit.pfo_cell"
   ]
  },
  {
   "cell_type": "code",
   "execution_count": null,
   "metadata": {},
   "outputs": [],
   "source": [
    "detroit.pfo_cell.tanks"
   ]
  },
  {
   "cell_type": "code",
   "execution_count": null,
   "metadata": {},
   "outputs": [],
   "source": [
    "detroit.pfo_cell.tanks[0].apply('F1', 'S2', 5000)"
   ]
  },
  {
   "cell_type": "code",
   "execution_count": null,
   "metadata": {},
   "outputs": [],
   "source": [
    "detroit.pfo_cell.tanks[0].apply('F1', 'S3', 5000)"
   ]
  },
  {
   "cell_type": "code",
   "execution_count": null,
   "metadata": {},
   "outputs": [],
   "source": [
    "detroit.pfo_cell.tanks[1].apply('F2', 'S1', 10000)"
   ]
  },
  {
   "cell_type": "code",
   "execution_count": null,
   "metadata": {},
   "outputs": [],
   "source": []
  },
  {
   "cell_type": "markdown",
   "metadata": {},
   "source": [
    "### [PI Store](#fifth-bullet) <a class=\"anchor\" id=\"pi_validation\"></a>\n",
    "\n",
    "- Representation\n",
    "- Drums\n",
    "    - Filling rules\n",
    "    - Updating state\n",
    "    - Emptying"
   ]
  },
  {
   "cell_type": "code",
   "execution_count": null,
   "metadata": {},
   "outputs": [],
   "source": [
    "detroit.pi_store = pi_store('Detroit, MI')"
   ]
  },
  {
   "cell_type": "code",
   "execution_count": null,
   "metadata": {},
   "outputs": [],
   "source": [
    "detroit.pi_store"
   ]
  },
  {
   "cell_type": "code",
   "execution_count": null,
   "metadata": {},
   "outputs": [],
   "source": [
    "detroit.pi_store.drums"
   ]
  },
  {
   "cell_type": "code",
   "execution_count": null,
   "metadata": {},
   "outputs": [],
   "source": [
    "detroit.pi_store.drums[0].capacity"
   ]
  },
  {
   "cell_type": "code",
   "execution_count": null,
   "metadata": {},
   "outputs": [],
   "source": [
    "detroit.pi_store.drums[0].fill('Coloring Agent1', 'S1', 'F1', 10000)"
   ]
  },
  {
   "cell_type": "code",
   "execution_count": null,
   "metadata": {},
   "outputs": [],
   "source": [
    "detroit.pi_store.drums[0].fill('Coloring Agent1', 'S1', 'F1', 9000)"
   ]
  },
  {
   "cell_type": "code",
   "execution_count": null,
   "metadata": {},
   "outputs": [],
   "source": [
    "detroit.pi_store.drums[0].fill('Coloring Agent1', 'S1', 'F1', 1)"
   ]
  },
  {
   "cell_type": "code",
   "execution_count": null,
   "metadata": {},
   "outputs": [],
   "source": [
    "detroit.pi_store.drums[0].contents"
   ]
  },
  {
   "cell_type": "code",
   "execution_count": null,
   "metadata": {},
   "outputs": [],
   "source": [
    "detroit.pi_store.drums[0].jb_color"
   ]
  },
  {
   "cell_type": "code",
   "execution_count": null,
   "metadata": {},
   "outputs": [],
   "source": [
    "detroit.pi_store.drums[0].jb_size"
   ]
  },
  {
   "cell_type": "code",
   "execution_count": null,
   "metadata": {},
   "outputs": [],
   "source": [
    "detroit.pi_store.drums[0].empty()"
   ]
  },
  {
   "cell_type": "code",
   "execution_count": null,
   "metadata": {},
   "outputs": [],
   "source": [
    "detroit.pi_store.drums[0].contents"
   ]
  },
  {
   "cell_type": "markdown",
   "metadata": {},
   "source": [
    "### [Packaging](#sixth-bullet) <a class=\"anchor\" id=\"packaging_validation\"></a>"
   ]
  },
  {
   "cell_type": "code",
   "execution_count": null,
   "metadata": {},
   "outputs": [],
   "source": [
    "detroit_packaging = packaging_cell('DETROITMI', 2, 1)\n",
    "detroit_packaging"
   ]
  },
  {
   "cell_type": "code",
   "execution_count": null,
   "metadata": {},
   "outputs": [],
   "source": [
    "detroit_packaging.bagging_machines"
   ]
  },
  {
   "cell_type": "code",
   "execution_count": null,
   "metadata": {},
   "outputs": [],
   "source": [
    "detroit_packaging.boxing_machines"
   ]
  },
  {
   "cell_type": "code",
   "execution_count": null,
   "metadata": {},
   "outputs": [],
   "source": [
    "detroit_packaging.bagging_machines[0].process('S1',1000,'Box')"
   ]
  },
  {
   "cell_type": "code",
   "execution_count": null,
   "metadata": {},
   "outputs": [],
   "source": []
  },
  {
   "cell_type": "code",
   "execution_count": null,
   "metadata": {},
   "outputs": [],
   "source": []
  },
  {
   "cell_type": "code",
   "execution_count": null,
   "metadata": {},
   "outputs": [],
   "source": []
  },
  {
   "cell_type": "code",
   "execution_count": null,
   "metadata": {},
   "outputs": [],
   "source": [
    "# Attempt at writing super/sub class for drums\n",
    "class drum:\n",
    "     def __init__(self, drum_id, capacity):\n",
    "        self.id = drum_id\n",
    "        self.capacity = int(capacity)\n",
    "        self.contents = 0\n",
    "        self.jb_color = 'Undefined'\n",
    "        self.jb_size = 'Undefined'\n",
    "        self.jb_flavor = 'Undefined'\n",
    "        \n",
    "    def __repr__(self):\n",
    "        return(self.id)"
   ]
  },
  {
   "cell_type": "code",
   "execution_count": null,
   "metadata": {},
   "outputs": [],
   "source": [
    "sample_mean = np.mean(hist_rate)\n",
    "sample_sd = np.std(hist_rate)\n",
    "\n",
    "rand_num = np.random.random()\n",
    "rand_rate = sample_sd*stats.norm.ppf(rand_num)+sample_mean\n",
    "\n",
    "fig, ax1 = plt.subplots(constrained_layout=True)\n",
    "x = np.linspace(sample_mean - 4*sample_sd, sample_mean + 4*sample_sd, 1000)\n",
    "y1 = hist_rate\n",
    "y2 = stats.norm.pdf(x, sample_mean, sample_sd)\n",
    "ax1.plot(x, y2, color='r')\n",
    "ax2 = ax1.twinx()\n",
    "ax2.hist(y1, bins=25, alpha=0.5)\n",
    "ax2.axvline(x=rand_rate, color='black')\n",
    "plt.show();"
   ]
  },
  {
   "cell_type": "code",
   "execution_count": null,
   "metadata": {},
   "outputs": [],
   "source": [
    "fig, ax1 = plt.subplots(constrained_layout=True)\n",
    "y3 = stats.norm.cdf(x, sample_mean, sample_sd)\n",
    "ax1.plot(x, y2, color='r')\n",
    "ax2 = ax1.twinx()\n",
    "ax2.plot(x, y3, color='c')\n",
    "plt.show();"
   ]
  }
 ],
 "metadata": {
  "kernelspec": {
   "display_name": "Python 3",
   "language": "python",
   "name": "python3"
  },
  "language_info": {
   "codemirror_mode": {
    "name": "ipython",
    "version": 3
   },
   "file_extension": ".py",
   "mimetype": "text/x-python",
   "name": "python",
   "nbconvert_exporter": "python",
   "pygments_lexer": "ipython3",
   "version": "3.7.3"
  }
 },
 "nbformat": 4,
 "nbformat_minor": 2
}
